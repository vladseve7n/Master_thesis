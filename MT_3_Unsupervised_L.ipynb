{
  "nbformat": 4,
  "nbformat_minor": 0,
  "metadata": {
    "colab": {
      "name": "MT_3_Unsupervised_L.ipynb",
      "provenance": [],
      "collapsed_sections": [],
      "mount_file_id": "1RgHnWhGYgfzkYXzcGz4RhiwLTND-Y3AV",
      "authorship_tag": "ABX9TyOcYRnMl6BT7S3NzhMe0Hjc"
    },
    "kernelspec": {
      "name": "python3",
      "display_name": "Python 3"
    },
    "language_info": {
      "name": "python"
    }
  },
  "cells": [
    {
      "cell_type": "markdown",
      "metadata": {
        "id": "CLQvxPCPfWaz"
      },
      "source": [
        "# Применение алгоритмов машинного обучения без учителя для распознавания уровня модуляции QAM сигнала"
      ]
    },
    {
      "cell_type": "code",
      "metadata": {
        "id": "pZ5HObpee22z"
      },
      "source": [
        "import pandas as pd \n",
        "import numpy as np\n",
        "import matplotlib\n",
        "import matplotlib.pyplot as plt\n",
        "import seaborn as sns"
      ],
      "execution_count": 1,
      "outputs": []
    },
    {
      "cell_type": "code",
      "metadata": {
        "id": "hO2iCtR2fV54"
      },
      "source": [
        "df = pd.read_pickle('/content/drive/MyDrive/Thesis/QAM_symbols_df.csv')"
      ],
      "execution_count": 2,
      "outputs": []
    },
    {
      "cell_type": "code",
      "metadata": {
        "colab": {
          "base_uri": "https://localhost:8080/",
          "height": 423
        },
        "id": "ze9Xw1IRgNSw",
        "outputId": "2aa562fe-447d-4245-fbdf-6a50a63c6f38"
      },
      "source": [
        "df"
      ],
      "execution_count": 3,
      "outputs": [
        {
          "output_type": "execute_result",
          "data": {
            "text/html": [
              "<div>\n",
              "<style scoped>\n",
              "    .dataframe tbody tr th:only-of-type {\n",
              "        vertical-align: middle;\n",
              "    }\n",
              "\n",
              "    .dataframe tbody tr th {\n",
              "        vertical-align: top;\n",
              "    }\n",
              "\n",
              "    .dataframe thead th {\n",
              "        text-align: right;\n",
              "    }\n",
              "</style>\n",
              "<table border=\"1\" class=\"dataframe\">\n",
              "  <thead>\n",
              "    <tr style=\"text-align: right;\">\n",
              "      <th></th>\n",
              "      <th>M</th>\n",
              "      <th>SNR</th>\n",
              "      <th>Phase_shift</th>\n",
              "      <th>QAM_symbols</th>\n",
              "    </tr>\n",
              "  </thead>\n",
              "  <tbody>\n",
              "    <tr>\n",
              "      <th>1</th>\n",
              "      <td>4</td>\n",
              "      <td>50</td>\n",
              "      <td>0</td>\n",
              "      <td>[(0.7014392993075365-0.6989112769319755j), (0....</td>\n",
              "    </tr>\n",
              "    <tr>\n",
              "      <th>2</th>\n",
              "      <td>4</td>\n",
              "      <td>50</td>\n",
              "      <td>0</td>\n",
              "      <td>[(-0.7067526946873619-0.6995223913305271j), (0...</td>\n",
              "    </tr>\n",
              "    <tr>\n",
              "      <th>3</th>\n",
              "      <td>4</td>\n",
              "      <td>50</td>\n",
              "      <td>0</td>\n",
              "      <td>[(-0.6996921958171798+0.7009840192354847j), (-...</td>\n",
              "    </tr>\n",
              "    <tr>\n",
              "      <th>4</th>\n",
              "      <td>4</td>\n",
              "      <td>50</td>\n",
              "      <td>3</td>\n",
              "      <td>[(-0.7398838731040926+0.664625874417456j), (0....</td>\n",
              "    </tr>\n",
              "    <tr>\n",
              "      <th>5</th>\n",
              "      <td>4</td>\n",
              "      <td>50</td>\n",
              "      <td>3</td>\n",
              "      <td>[(0.739909895597325-0.6611057921027184j), (0.6...</td>\n",
              "    </tr>\n",
              "    <tr>\n",
              "      <th>...</th>\n",
              "      <td>...</td>\n",
              "      <td>...</td>\n",
              "      <td>...</td>\n",
              "      <td>...</td>\n",
              "    </tr>\n",
              "    <tr>\n",
              "      <th>12086</th>\n",
              "      <td>1024</td>\n",
              "      <td>0</td>\n",
              "      <td>87</td>\n",
              "      <td>[(0.18522224139101126+0.15108979133587475j), (...</td>\n",
              "    </tr>\n",
              "    <tr>\n",
              "      <th>12087</th>\n",
              "      <td>1024</td>\n",
              "      <td>0</td>\n",
              "      <td>87</td>\n",
              "      <td>[(-0.22127741229059017+0.07121604374153466j), ...</td>\n",
              "    </tr>\n",
              "    <tr>\n",
              "      <th>12088</th>\n",
              "      <td>1024</td>\n",
              "      <td>0</td>\n",
              "      <td>90</td>\n",
              "      <td>[(-0.40020864490078795-0.18589912117816118j), ...</td>\n",
              "    </tr>\n",
              "    <tr>\n",
              "      <th>12089</th>\n",
              "      <td>1024</td>\n",
              "      <td>0</td>\n",
              "      <td>90</td>\n",
              "      <td>[(-0.3619966950003602+0.04947952938787332j), (...</td>\n",
              "    </tr>\n",
              "    <tr>\n",
              "      <th>12090</th>\n",
              "      <td>1024</td>\n",
              "      <td>0</td>\n",
              "      <td>90</td>\n",
              "      <td>[(0.1884286329194047-0.06202493722064918j), (0...</td>\n",
              "    </tr>\n",
              "  </tbody>\n",
              "</table>\n",
              "<p>12090 rows × 4 columns</p>\n",
              "</div>"
            ],
            "text/plain": [
              "          M  ...                                        QAM_symbols\n",
              "1         4  ...  [(0.7014392993075365-0.6989112769319755j), (0....\n",
              "2         4  ...  [(-0.7067526946873619-0.6995223913305271j), (0...\n",
              "3         4  ...  [(-0.6996921958171798+0.7009840192354847j), (-...\n",
              "4         4  ...  [(-0.7398838731040926+0.664625874417456j), (0....\n",
              "5         4  ...  [(0.739909895597325-0.6611057921027184j), (0.6...\n",
              "...     ...  ...                                                ...\n",
              "12086  1024  ...  [(0.18522224139101126+0.15108979133587475j), (...\n",
              "12087  1024  ...  [(-0.22127741229059017+0.07121604374153466j), ...\n",
              "12088  1024  ...  [(-0.40020864490078795-0.18589912117816118j), ...\n",
              "12089  1024  ...  [(-0.3619966950003602+0.04947952938787332j), (...\n",
              "12090  1024  ...  [(0.1884286329194047-0.06202493722064918j), (0...\n",
              "\n",
              "[12090 rows x 4 columns]"
            ]
          },
          "metadata": {
            "tags": []
          },
          "execution_count": 3
        }
      ]
    },
    {
      "cell_type": "markdown",
      "metadata": {
        "id": "-z813WpRm4S_"
      },
      "source": [
        "# Использование метода KMeans"
      ]
    },
    {
      "cell_type": "code",
      "metadata": {
        "id": "7zPnhE9KomXF"
      },
      "source": [
        "from sklearn.cluster import KMeans"
      ],
      "execution_count": 4,
      "outputs": []
    },
    {
      "cell_type": "code",
      "metadata": {
        "id": "k54Yr-EukeSJ"
      },
      "source": [
        "! pip install ModulationPy\n",
        "import ModulationPy as mpy"
      ],
      "execution_count": null,
      "outputs": []
    },
    {
      "cell_type": "markdown",
      "metadata": {
        "id": "BiNju7y9xmrO"
      },
      "source": [
        "# Создание фазового компенсатора"
      ]
    },
    {
      "cell_type": "code",
      "metadata": {
        "colab": {
          "base_uri": "https://localhost:8080/",
          "height": 283
        },
        "id": "PjuyItzRupYj",
        "outputId": "18176148-a192-4892-924a-29959cc31cfe"
      },
      "source": [
        "M = 4\n",
        "SNR = 30\n",
        "Ph = 30\n",
        "\n",
        "test = df[(df.M == M) & \n",
        "          (df.SNR == SNR) & \n",
        "          (df.Phase_shift == Ph)] \\\n",
        "          .iloc[0].QAM_symbols\n",
        "plt.scatter(test.real, \n",
        "            test.imag,\n",
        "            c='black',\n",
        "            marker='.',\n",
        "            s=1)\n",
        "plt.axhline(0, c='black', dashes=(1, 1))\n",
        "plt.axvline(0, c='black', dashes=(1, 1))\n",
        "\n",
        "quarter_1 = np.array([i for i in test if i.real >= 0 and i.imag >= 0])\n",
        "quarter_2 = np.array([i for i in test if i.real <= 0 and i.imag >= 0])\n",
        "\n",
        "# tops = [[np.mean(quarter_1.real), np.mean(quarter_1.imag)], \n",
        "#         [np.mean(quarter_2.real), np.mean(quarter_2.imag)]]\n",
        "\n",
        "result = [np.where(abs(quarter_1) == np.amax(abs(quarter_1)))[0][0],\n",
        "          np.where(abs(quarter_2) == np.amax(abs(quarter_2)))[0][0]]\n",
        "\n",
        "result = [np.where(quarter_1[result[0]] == test)[0][0],\n",
        "          np.where(quarter_2[result[1]] == test)[0][0]]\n",
        "\n",
        "tops = [[test.real[result[0]],test.imag[result[0]]],\n",
        "        [test.real[result[1]],test.imag[result[1]]]]\n",
        "\n",
        "plt.plot(tops[1], tops[0])"
      ],
      "execution_count": 31,
      "outputs": [
        {
          "output_type": "execute_result",
          "data": {
            "text/plain": [
              "[<matplotlib.lines.Line2D at 0x7f3aa84ae490>]"
            ]
          },
          "metadata": {
            "tags": []
          },
          "execution_count": 31
        },
        {
          "output_type": "display_data",
          "data": {
            "image/png": "[encoded data removed]",
            "text/plain": [
              "<Figure size 432x288 with 1 Axes>"
            ]
          },
          "metadata": {
            "tags": [],
            "needs_background": "light"
          }
        }
      ]
    },
    {
      "cell_type": "markdown",
      "metadata": {
        "id": "gAVtPNICFApR"
      },
      "source": [
        "## Вычисление угла поворота"
      ]
    },
    {
      "cell_type": "code",
      "metadata": {
        "colab": {
          "base_uri": "https://localhost:8080/",
          "height": 285
        },
        "id": "3oT0kxZWFcSD",
        "outputId": "27aa132e-4073-4686-cd93-81994c380ee7"
      },
      "source": [
        "# BD=y2-y1;\n",
        "# AD=x2-x1;\n",
        "# C=arctg(BD/AD);\n",
        "\n",
        "angle = np.arctan((tops[0][0] - tops[0][1])/(tops[1][0] - tops[1][1]))\n",
        "test = test*np.exp(-angle*1j)\n",
        "plt.scatter(test.real, \n",
        "            test.imag,\n",
        "            c='black',\n",
        "            marker='.',\n",
        "            s=1)\n",
        "plt.axhline(0, c='black', dashes=(1, 1))\n",
        "plt.axvline(0, c='black', dashes=(1, 1))\n",
        "\n",
        "quarter_1 = np.array([i for i in test if i.real >= 0 and i.imag >= 0])\n",
        "quarter_2 = np.array([i for i in test if i.real <= 0 and i.imag >= 0])\n",
        "\n",
        "result = [np.where(abs(quarter_1) == np.amax(abs(quarter_1)))[0][0],\n",
        "          np.where(abs(quarter_2) == np.amax(abs(quarter_2)))[0][0]]\n",
        "\n",
        "result = [np.where(quarter_1[result[0]] == test)[0][0],\n",
        "          np.where(quarter_2[result[1]] == test)[0][0]]\n",
        "\n",
        "tops = [[test.real[result[0]],test.imag[result[0]]],\n",
        "        [test.real[result[1]],test.imag[result[1]]]]\n",
        "\n",
        "plt.plot(tops[1], tops[0])"
      ],
      "execution_count": 32,
      "outputs": [
        {
          "output_type": "execute_result",
          "data": {
            "text/plain": [
              "[<matplotlib.lines.Line2D at 0x7f3aa7c34e10>]"
            ]
          },
          "metadata": {
            "tags": []
          },
          "execution_count": 32
        },
        {
          "output_type": "display_data",
          "data": {
            "image/png": "[encoded data removed]",
            "text/plain": [
              "<Figure size 432x288 with 1 Axes>"
            ]
          },
          "metadata": {
            "tags": [],
            "needs_background": "light"
          }
        }
      ]
    },
    {
      "cell_type": "markdown",
      "metadata": {
        "id": "lDt3UtQHqEGi"
      },
      "source": [
        "# Создание модели анлизатора уровня модуляции QAM сигнала, основанного на методе KMeans"
      ]
    },
    {
      "cell_type": "code",
      "metadata": {
        "id": "jUTs-n0NqOHD"
      },
      "source": [
        "from tqdm.notebook import tqdm # Установка прогресс бара\n",
        "class QAMK():\n",
        "\n",
        "  def __init__(self, phase=True):\n",
        "    self.qam_clusters = {}\n",
        "    self.phase = phase\n",
        "    # Расчёт начальных кластеров для определенных видов модуляции\n",
        "    for M in [4, 16, 64, 256, 1024]:\n",
        "      modulator = mpy.QAMModem(M,\n",
        "                              bin_input=False,\n",
        "                              )\n",
        "      consq = np.arange(M)\n",
        "      QAM = modulator.modulate(consq)\n",
        "      QAM = QAM/max(abs(QAM))\n",
        "      self.qam_clusters[M] = np.concatenate((np.array(QAM.real).reshape(-1, 1), \n",
        "                                        np.array(QAM.imag).reshape(-1, 1)),\n",
        "                                      axis=1)\n",
        "      \n",
        "  def angle_corrector(self, qam): # Фазовый компенсатор\n",
        "\n",
        "    # Вычисление значений из 1-ой и 2-ой четверти\n",
        "    quarter_1 = np.array([i for i in qam if i.real >= 0 and i.imag >= 0])\n",
        "    quarter_2 = np.array([i for i in qam if i.real <= 0 and i.imag >= 0])\n",
        "\n",
        "    # Поиск крайней верхней правой и левой точки\n",
        "    result = [np.where(abs(quarter_1) == np.amax(abs(quarter_1)))[0][0],\n",
        "              np.where(abs(quarter_2) == np.amax(abs(quarter_2)))[0][0]]\n",
        "\n",
        "    result = [np.where(quarter_1[result[0]] == qam)[0][0],\n",
        "              np.where(quarter_2[result[1]] == qam)[0][0]]\n",
        "    # Вычисление координат крайней верхней правой и левой точки\n",
        "    tops = [[qam.real[result[0]],qam.imag[result[0]]],\n",
        "            [qam.real[result[1]],qam.imag[result[1]]]]\n",
        "\n",
        "    # Подсчёт фазового набега\n",
        "    return np.arctan((tops[0][0] - tops[0][1])/(tops[1][0] - tops[1][1]))\n",
        "\n",
        "  def get_answers(self, qams):\n",
        "    answers = [] # Создание массива для записи ответов\n",
        "    for qam in qams: # Перебор всех QAM последовательностей\n",
        "\n",
        "      if self.phase: # Если включен фазовый компенсатор, то компенсировать фазовый набег\n",
        "            qam = qam*np.exp(-self.angle_corrector(qam)*1j)\n",
        "            \n",
        "      # Преобразование данных для метода KMeans\n",
        "      X = pd.DataFrame({'real': qam.real, 'imag': qam.imag})\n",
        "      # Списки для храненеия ошибок и кол-ва иттераций\n",
        "      errors = []\n",
        "      iters = []\n",
        "      # Перебор кол-ва кластеров\n",
        "      for i in [4, 16, 64, 256, 1024]:\n",
        "        # Создание модели KMeans\n",
        "        kmeans = KMeans(n_clusters = i, # Число кластеров\n",
        "                        max_iter=12, # Максимальное число иттераций\n",
        "                        random_state=42, # random seed\n",
        "                        n_init=1, # Кол-во повторейний метода\n",
        "                        n_jobs=-1, # Использование нес-их ядер\n",
        "                        init=self.qam_clusters[i], # Нач-ое расп-ие кластеров\n",
        "                        tol=1e-40)\n",
        "        kmeans.fit(X) # Запуск модели на данных X\n",
        "\n",
        "        errors.append(kmeans.inertia_) \n",
        "        iters.append(kmeans.n_iter_)\n",
        "\n",
        "      # Результирующая таблица\n",
        "      result = pd.DataFrame({'errors':errors, 'iters':iters}, index=[4, 16, 64, 256, 1024])\n",
        "\n",
        "      result['maxerr'] = result.errors/result.errors.std() + 1\n",
        "      result['er_it']  = result.maxerr * result.iters\n",
        "\n",
        "      answers.append(result.er_it.idxmin())\n",
        "\n",
        "    return answers"
      ],
      "execution_count": 15,
      "outputs": []
    },
    {
      "cell_type": "code",
      "metadata": {
        "id": "p8NzGegRudVB"
      },
      "source": [
        "answers = model.get_answers(np.array(df.QAM_symbols))"
      ],
      "execution_count": null,
      "outputs": []
    },
    {
      "cell_type": "code",
      "metadata": {
        "colab": {
          "base_uri": "https://localhost:8080/"
        },
        "id": "mQqFs-7yuuTk",
        "outputId": "5676a4a6-2cf9-4c2f-c544-1e920ab5ccfb"
      },
      "source": [
        "len(answers)"
      ],
      "execution_count": 20,
      "outputs": [
        {
          "output_type": "execute_result",
          "data": {
            "text/plain": [
              "12090"
            ]
          },
          "metadata": {
            "tags": []
          },
          "execution_count": 20
        }
      ]
    },
    {
      "cell_type": "code",
      "metadata": {
        "id": "4Pis14zHwFi5"
      },
      "source": [
        "df['Result'] = (df.M == answers)"
      ],
      "execution_count": 21,
      "outputs": []
    },
    {
      "cell_type": "code",
      "metadata": {
        "colab": {
          "base_uri": "https://localhost:8080/",
          "height": 423
        },
        "id": "gx_UtH6swQtB",
        "outputId": "4c74b1d2-2cf6-41ed-b0ed-48104990d3ad"
      },
      "source": [
        "df = df.drop(\"QAM_symbols\")"
      ],
      "execution_count": 22,
      "outputs": [
        {
          "output_type": "execute_result",
          "data": {
            "text/html": [
              "<div>\n",
              "<style scoped>\n",
              "    .dataframe tbody tr th:only-of-type {\n",
              "        vertical-align: middle;\n",
              "    }\n",
              "\n",
              "    .dataframe tbody tr th {\n",
              "        vertical-align: top;\n",
              "    }\n",
              "\n",
              "    .dataframe thead th {\n",
              "        text-align: right;\n",
              "    }\n",
              "</style>\n",
              "<table border=\"1\" class=\"dataframe\">\n",
              "  <thead>\n",
              "    <tr style=\"text-align: right;\">\n",
              "      <th></th>\n",
              "      <th>M</th>\n",
              "      <th>SNR</th>\n",
              "      <th>Phase_shift</th>\n",
              "      <th>QAM_symbols</th>\n",
              "      <th>Result</th>\n",
              "    </tr>\n",
              "  </thead>\n",
              "  <tbody>\n",
              "    <tr>\n",
              "      <th>1</th>\n",
              "      <td>4</td>\n",
              "      <td>50</td>\n",
              "      <td>0</td>\n",
              "      <td>[(0.7014392993075365-0.6989112769319755j), (0....</td>\n",
              "      <td>True</td>\n",
              "    </tr>\n",
              "    <tr>\n",
              "      <th>2</th>\n",
              "      <td>4</td>\n",
              "      <td>50</td>\n",
              "      <td>0</td>\n",
              "      <td>[(-0.7067526946873619-0.6995223913305271j), (0...</td>\n",
              "      <td>True</td>\n",
              "    </tr>\n",
              "    <tr>\n",
              "      <th>3</th>\n",
              "      <td>4</td>\n",
              "      <td>50</td>\n",
              "      <td>0</td>\n",
              "      <td>[(-0.6996921958171798+0.7009840192354847j), (-...</td>\n",
              "      <td>True</td>\n",
              "    </tr>\n",
              "    <tr>\n",
              "      <th>4</th>\n",
              "      <td>4</td>\n",
              "      <td>50</td>\n",
              "      <td>3</td>\n",
              "      <td>[(-0.7398838731040926+0.664625874417456j), (0....</td>\n",
              "      <td>True</td>\n",
              "    </tr>\n",
              "    <tr>\n",
              "      <th>5</th>\n",
              "      <td>4</td>\n",
              "      <td>50</td>\n",
              "      <td>3</td>\n",
              "      <td>[(0.739909895597325-0.6611057921027184j), (0.6...</td>\n",
              "      <td>True</td>\n",
              "    </tr>\n",
              "    <tr>\n",
              "      <th>...</th>\n",
              "      <td>...</td>\n",
              "      <td>...</td>\n",
              "      <td>...</td>\n",
              "      <td>...</td>\n",
              "      <td>...</td>\n",
              "    </tr>\n",
              "    <tr>\n",
              "      <th>12086</th>\n",
              "      <td>1024</td>\n",
              "      <td>0</td>\n",
              "      <td>87</td>\n",
              "      <td>[(0.18522224139101126+0.15108979133587475j), (...</td>\n",
              "      <td>True</td>\n",
              "    </tr>\n",
              "    <tr>\n",
              "      <th>12087</th>\n",
              "      <td>1024</td>\n",
              "      <td>0</td>\n",
              "      <td>87</td>\n",
              "      <td>[(-0.22127741229059017+0.07121604374153466j), ...</td>\n",
              "      <td>True</td>\n",
              "    </tr>\n",
              "    <tr>\n",
              "      <th>12088</th>\n",
              "      <td>1024</td>\n",
              "      <td>0</td>\n",
              "      <td>90</td>\n",
              "      <td>[(-0.40020864490078795-0.18589912117816118j), ...</td>\n",
              "      <td>True</td>\n",
              "    </tr>\n",
              "    <tr>\n",
              "      <th>12089</th>\n",
              "      <td>1024</td>\n",
              "      <td>0</td>\n",
              "      <td>90</td>\n",
              "      <td>[(-0.3619966950003602+0.04947952938787332j), (...</td>\n",
              "      <td>True</td>\n",
              "    </tr>\n",
              "    <tr>\n",
              "      <th>12090</th>\n",
              "      <td>1024</td>\n",
              "      <td>0</td>\n",
              "      <td>90</td>\n",
              "      <td>[(0.1884286329194047-0.06202493722064918j), (0...</td>\n",
              "      <td>True</td>\n",
              "    </tr>\n",
              "  </tbody>\n",
              "</table>\n",
              "<p>12090 rows × 5 columns</p>\n",
              "</div>"
            ],
            "text/plain": [
              "          M  SNR  ...                                        QAM_symbols Result\n",
              "1         4   50  ...  [(0.7014392993075365-0.6989112769319755j), (0....   True\n",
              "2         4   50  ...  [(-0.7067526946873619-0.6995223913305271j), (0...   True\n",
              "3         4   50  ...  [(-0.6996921958171798+0.7009840192354847j), (-...   True\n",
              "4         4   50  ...  [(-0.7398838731040926+0.664625874417456j), (0....   True\n",
              "5         4   50  ...  [(0.739909895597325-0.6611057921027184j), (0.6...   True\n",
              "...     ...  ...  ...                                                ...    ...\n",
              "12086  1024    0  ...  [(0.18522224139101126+0.15108979133587475j), (...   True\n",
              "12087  1024    0  ...  [(-0.22127741229059017+0.07121604374153466j), ...   True\n",
              "12088  1024    0  ...  [(-0.40020864490078795-0.18589912117816118j), ...   True\n",
              "12089  1024    0  ...  [(-0.3619966950003602+0.04947952938787332j), (...   True\n",
              "12090  1024    0  ...  [(0.1884286329194047-0.06202493722064918j), (0...   True\n",
              "\n",
              "[12090 rows x 5 columns]"
            ]
          },
          "metadata": {
            "tags": []
          },
          "execution_count": 22
        }
      ]
    },
    {
      "cell_type": "code",
      "metadata": {
        "colab": {
          "base_uri": "https://localhost:8080/",
          "height": 206
        },
        "id": "EzpKLWCpwRIt",
        "outputId": "26dc3f29-57ec-45c7-bd49-3b7e16d261fd"
      },
      "source": [
        "df1 = df.iloc[:]\n",
        "df1.drop([\"QAM_symbols\", 'Phase_shift', 'SNR'], axis=1)\\\n",
        ".groupby(by=['M'], as_index=False).mean()"
      ],
      "execution_count": 24,
      "outputs": [
        {
          "output_type": "execute_result",
          "data": {
            "text/html": [
              "<div>\n",
              "<style scoped>\n",
              "    .dataframe tbody tr th:only-of-type {\n",
              "        vertical-align: middle;\n",
              "    }\n",
              "\n",
              "    .dataframe tbody tr th {\n",
              "        vertical-align: top;\n",
              "    }\n",
              "\n",
              "    .dataframe thead th {\n",
              "        text-align: right;\n",
              "    }\n",
              "</style>\n",
              "<table border=\"1\" class=\"dataframe\">\n",
              "  <thead>\n",
              "    <tr style=\"text-align: right;\">\n",
              "      <th></th>\n",
              "      <th>M</th>\n",
              "      <th>Result</th>\n",
              "    </tr>\n",
              "  </thead>\n",
              "  <tbody>\n",
              "    <tr>\n",
              "      <th>0</th>\n",
              "      <td>4</td>\n",
              "      <td>0.803143</td>\n",
              "    </tr>\n",
              "    <tr>\n",
              "      <th>1</th>\n",
              "      <td>16</td>\n",
              "      <td>0.720844</td>\n",
              "    </tr>\n",
              "    <tr>\n",
              "      <th>2</th>\n",
              "      <td>64</td>\n",
              "      <td>0.594706</td>\n",
              "    </tr>\n",
              "    <tr>\n",
              "      <th>3</th>\n",
              "      <td>256</td>\n",
              "      <td>0.460711</td>\n",
              "    </tr>\n",
              "    <tr>\n",
              "      <th>4</th>\n",
              "      <td>1024</td>\n",
              "      <td>0.986766</td>\n",
              "    </tr>\n",
              "  </tbody>\n",
              "</table>\n",
              "</div>"
            ],
            "text/plain": [
              "      M    Result\n",
              "0     4  0.803143\n",
              "1    16  0.720844\n",
              "2    64  0.594706\n",
              "3   256  0.460711\n",
              "4  1024  0.986766"
            ]
          },
          "metadata": {
            "tags": []
          },
          "execution_count": 24
        }
      ]
    },
    {
      "cell_type": "code",
      "metadata": {
        "colab": {
          "base_uri": "https://localhost:8080/"
        },
        "id": "N3xhn9uwwXeP",
        "outputId": "ece9b74b-9160-44c9-eacd-f1f823702294"
      },
      "source": [
        "df1.Result.mean()"
      ],
      "execution_count": 25,
      "outputs": [
        {
          "output_type": "execute_result",
          "data": {
            "text/plain": [
              "0.7132340777502068"
            ]
          },
          "metadata": {
            "tags": []
          },
          "execution_count": 25
        }
      ]
    },
    {
      "cell_type": "code",
      "metadata": {
        "colab": {
          "base_uri": "https://localhost:8080/",
          "height": 606
        },
        "id": "ua2NGLtlwf2U",
        "outputId": "81a8699c-b2a4-46ec-da52-71e5ed9fceda"
      },
      "source": [
        "df3 = df1.drop([\"QAM_symbols\", 'Phase_shift'], axis=1)\n",
        "df3.SNR[(df.SNR >= 0) & (df.SNR < 15)] = '[0, 15)'\n",
        "df3.SNR[(df.SNR >= 15) & (df.SNR < 30)] = '[15, 30)'\n",
        "df3.SNR[(df.SNR >= 30) & (df.SNR <= 50)] = '[30, 50)'\n",
        "df3.groupby(by=['M', 'SNR'], as_index=False).mean()"
      ],
      "execution_count": 26,
      "outputs": [
        {
          "output_type": "stream",
          "text": [
            "/usr/local/lib/python3.7/dist-packages/ipykernel_launcher.py:2: SettingWithCopyWarning: \n",
            "A value is trying to be set on a copy of a slice from a DataFrame\n",
            "\n",
            "See the caveats in the documentation: https://pandas.pydata.org/pandas-docs/stable/user_guide/indexing.html#returning-a-view-versus-a-copy\n",
            "  \n"
          ],
          "name": "stderr"
        },
        {
          "output_type": "execute_result",
          "data": {
            "text/html": [
              "<div>\n",
              "<style scoped>\n",
              "    .dataframe tbody tr th:only-of-type {\n",
              "        vertical-align: middle;\n",
              "    }\n",
              "\n",
              "    .dataframe tbody tr th {\n",
              "        vertical-align: top;\n",
              "    }\n",
              "\n",
              "    .dataframe thead th {\n",
              "        text-align: right;\n",
              "    }\n",
              "</style>\n",
              "<table border=\"1\" class=\"dataframe\">\n",
              "  <thead>\n",
              "    <tr style=\"text-align: right;\">\n",
              "      <th></th>\n",
              "      <th>M</th>\n",
              "      <th>SNR</th>\n",
              "      <th>Result</th>\n",
              "    </tr>\n",
              "  </thead>\n",
              "  <tbody>\n",
              "    <tr>\n",
              "      <th>0</th>\n",
              "      <td>4</td>\n",
              "      <td>[0, 15)</td>\n",
              "      <td>0.360215</td>\n",
              "    </tr>\n",
              "    <tr>\n",
              "      <th>1</th>\n",
              "      <td>4</td>\n",
              "      <td>[15, 30)</td>\n",
              "      <td>1.000000</td>\n",
              "    </tr>\n",
              "    <tr>\n",
              "      <th>2</th>\n",
              "      <td>4</td>\n",
              "      <td>[30, 50)</td>\n",
              "      <td>1.000000</td>\n",
              "    </tr>\n",
              "    <tr>\n",
              "      <th>3</th>\n",
              "      <td>16</td>\n",
              "      <td>[0, 15)</td>\n",
              "      <td>0.092742</td>\n",
              "    </tr>\n",
              "    <tr>\n",
              "      <th>4</th>\n",
              "      <td>16</td>\n",
              "      <td>[15, 30)</td>\n",
              "      <td>1.000000</td>\n",
              "    </tr>\n",
              "    <tr>\n",
              "      <th>5</th>\n",
              "      <td>16</td>\n",
              "      <td>[30, 50)</td>\n",
              "      <td>1.000000</td>\n",
              "    </tr>\n",
              "    <tr>\n",
              "      <th>6</th>\n",
              "      <td>64</td>\n",
              "      <td>[0, 15)</td>\n",
              "      <td>0.000000</td>\n",
              "    </tr>\n",
              "    <tr>\n",
              "      <th>7</th>\n",
              "      <td>64</td>\n",
              "      <td>[15, 30)</td>\n",
              "      <td>0.637481</td>\n",
              "    </tr>\n",
              "    <tr>\n",
              "      <th>8</th>\n",
              "      <td>64</td>\n",
              "      <td>[30, 50)</td>\n",
              "      <td>1.000000</td>\n",
              "    </tr>\n",
              "    <tr>\n",
              "      <th>9</th>\n",
              "      <td>256</td>\n",
              "      <td>[0, 15)</td>\n",
              "      <td>0.000000</td>\n",
              "    </tr>\n",
              "    <tr>\n",
              "      <th>10</th>\n",
              "      <td>256</td>\n",
              "      <td>[15, 30)</td>\n",
              "      <td>0.139785</td>\n",
              "    </tr>\n",
              "    <tr>\n",
              "      <th>11</th>\n",
              "      <td>256</td>\n",
              "      <td>[30, 50)</td>\n",
              "      <td>1.000000</td>\n",
              "    </tr>\n",
              "    <tr>\n",
              "      <th>12</th>\n",
              "      <td>1024</td>\n",
              "      <td>[0, 15)</td>\n",
              "      <td>1.000000</td>\n",
              "    </tr>\n",
              "    <tr>\n",
              "      <th>13</th>\n",
              "      <td>1024</td>\n",
              "      <td>[15, 30)</td>\n",
              "      <td>0.998464</td>\n",
              "    </tr>\n",
              "    <tr>\n",
              "      <th>14</th>\n",
              "      <td>1024</td>\n",
              "      <td>[30, 50)</td>\n",
              "      <td>0.969697</td>\n",
              "    </tr>\n",
              "  </tbody>\n",
              "</table>\n",
              "</div>"
            ],
            "text/plain": [
              "       M       SNR    Result\n",
              "0      4   [0, 15)  0.360215\n",
              "1      4  [15, 30)  1.000000\n",
              "2      4  [30, 50)  1.000000\n",
              "3     16   [0, 15)  0.092742\n",
              "4     16  [15, 30)  1.000000\n",
              "5     16  [30, 50)  1.000000\n",
              "6     64   [0, 15)  0.000000\n",
              "7     64  [15, 30)  0.637481\n",
              "8     64  [30, 50)  1.000000\n",
              "9    256   [0, 15)  0.000000\n",
              "10   256  [15, 30)  0.139785\n",
              "11   256  [30, 50)  1.000000\n",
              "12  1024   [0, 15)  1.000000\n",
              "13  1024  [15, 30)  0.998464\n",
              "14  1024  [30, 50)  0.969697"
            ]
          },
          "metadata": {
            "tags": []
          },
          "execution_count": 26
        }
      ]
    },
    {
      "cell_type": "code",
      "metadata": {
        "colab": {
          "base_uri": "https://localhost:8080/",
          "height": 606
        },
        "id": "Pf2kps1vzvpB",
        "outputId": "20afe266-2277-4a99-9bd3-57b263d6cb02"
      },
      "source": [
        "df3 = df1.drop([\"QAM_symbols\", 'SNR'], axis=1)\n",
        "df3.Phase_shift[(df.Phase_shift >= 0) & (df.Phase_shift < 30)] = '[0, 30)'\n",
        "df3.Phase_shift[(df.Phase_shift >= 30) & (df.Phase_shift < 60)] = '[30, 60)'\n",
        "df3.Phase_shift[(df.Phase_shift >= 60) & (df.Phase_shift <= 90)] = '[60, 90)'\n",
        "df3.groupby(by=['M', 'Phase_shift'], as_index=False).mean()"
      ],
      "execution_count": 29,
      "outputs": [
        {
          "output_type": "stream",
          "text": [
            "/usr/local/lib/python3.7/dist-packages/ipykernel_launcher.py:2: SettingWithCopyWarning: \n",
            "A value is trying to be set on a copy of a slice from a DataFrame\n",
            "\n",
            "See the caveats in the documentation: https://pandas.pydata.org/pandas-docs/stable/user_guide/indexing.html#returning-a-view-versus-a-copy\n",
            "  \n"
          ],
          "name": "stderr"
        },
        {
          "output_type": "execute_result",
          "data": {
            "text/html": [
              "<div>\n",
              "<style scoped>\n",
              "    .dataframe tbody tr th:only-of-type {\n",
              "        vertical-align: middle;\n",
              "    }\n",
              "\n",
              "    .dataframe tbody tr th {\n",
              "        vertical-align: top;\n",
              "    }\n",
              "\n",
              "    .dataframe thead th {\n",
              "        text-align: right;\n",
              "    }\n",
              "</style>\n",
              "<table border=\"1\" class=\"dataframe\">\n",
              "  <thead>\n",
              "    <tr style=\"text-align: right;\">\n",
              "      <th></th>\n",
              "      <th>M</th>\n",
              "      <th>Phase_shift</th>\n",
              "      <th>Result</th>\n",
              "    </tr>\n",
              "  </thead>\n",
              "  <tbody>\n",
              "    <tr>\n",
              "      <th>0</th>\n",
              "      <td>4</td>\n",
              "      <td>[0, 30)</td>\n",
              "      <td>0.803846</td>\n",
              "    </tr>\n",
              "    <tr>\n",
              "      <th>1</th>\n",
              "      <td>4</td>\n",
              "      <td>[30, 60)</td>\n",
              "      <td>0.808974</td>\n",
              "    </tr>\n",
              "    <tr>\n",
              "      <th>2</th>\n",
              "      <td>4</td>\n",
              "      <td>[60, 90)</td>\n",
              "      <td>0.797203</td>\n",
              "    </tr>\n",
              "    <tr>\n",
              "      <th>3</th>\n",
              "      <td>16</td>\n",
              "      <td>[0, 30)</td>\n",
              "      <td>0.715385</td>\n",
              "    </tr>\n",
              "    <tr>\n",
              "      <th>4</th>\n",
              "      <td>16</td>\n",
              "      <td>[30, 60)</td>\n",
              "      <td>0.725641</td>\n",
              "    </tr>\n",
              "    <tr>\n",
              "      <th>5</th>\n",
              "      <td>16</td>\n",
              "      <td>[60, 90)</td>\n",
              "      <td>0.721445</td>\n",
              "    </tr>\n",
              "    <tr>\n",
              "      <th>6</th>\n",
              "      <td>64</td>\n",
              "      <td>[0, 30)</td>\n",
              "      <td>0.600000</td>\n",
              "    </tr>\n",
              "    <tr>\n",
              "      <th>7</th>\n",
              "      <td>64</td>\n",
              "      <td>[30, 60)</td>\n",
              "      <td>0.591026</td>\n",
              "    </tr>\n",
              "    <tr>\n",
              "      <th>8</th>\n",
              "      <td>64</td>\n",
              "      <td>[60, 90)</td>\n",
              "      <td>0.593240</td>\n",
              "    </tr>\n",
              "    <tr>\n",
              "      <th>9</th>\n",
              "      <td>256</td>\n",
              "      <td>[0, 30)</td>\n",
              "      <td>0.458974</td>\n",
              "    </tr>\n",
              "    <tr>\n",
              "      <th>10</th>\n",
              "      <td>256</td>\n",
              "      <td>[30, 60)</td>\n",
              "      <td>0.465385</td>\n",
              "    </tr>\n",
              "    <tr>\n",
              "      <th>11</th>\n",
              "      <td>256</td>\n",
              "      <td>[60, 90)</td>\n",
              "      <td>0.458042</td>\n",
              "    </tr>\n",
              "    <tr>\n",
              "      <th>12</th>\n",
              "      <td>1024</td>\n",
              "      <td>[0, 30)</td>\n",
              "      <td>0.985897</td>\n",
              "    </tr>\n",
              "    <tr>\n",
              "      <th>13</th>\n",
              "      <td>1024</td>\n",
              "      <td>[30, 60)</td>\n",
              "      <td>0.987179</td>\n",
              "    </tr>\n",
              "    <tr>\n",
              "      <th>14</th>\n",
              "      <td>1024</td>\n",
              "      <td>[60, 90)</td>\n",
              "      <td>0.987179</td>\n",
              "    </tr>\n",
              "  </tbody>\n",
              "</table>\n",
              "</div>"
            ],
            "text/plain": [
              "       M Phase_shift    Result\n",
              "0      4     [0, 30)  0.803846\n",
              "1      4    [30, 60)  0.808974\n",
              "2      4    [60, 90)  0.797203\n",
              "3     16     [0, 30)  0.715385\n",
              "4     16    [30, 60)  0.725641\n",
              "5     16    [60, 90)  0.721445\n",
              "6     64     [0, 30)  0.600000\n",
              "7     64    [30, 60)  0.591026\n",
              "8     64    [60, 90)  0.593240\n",
              "9    256     [0, 30)  0.458974\n",
              "10   256    [30, 60)  0.465385\n",
              "11   256    [60, 90)  0.458042\n",
              "12  1024     [0, 30)  0.985897\n",
              "13  1024    [30, 60)  0.987179\n",
              "14  1024    [60, 90)  0.987179"
            ]
          },
          "metadata": {
            "tags": []
          },
          "execution_count": 29
        }
      ]
    },
    {
      "cell_type": "code",
      "metadata": {
        "colab": {
          "base_uri": "https://localhost:8080/",
          "height": 399
        },
        "id": "HRmenu1LwsCl",
        "outputId": "7473523e-222f-4d11-9a6c-aed4a9fd1e0e"
      },
      "source": [
        "df4 = df1.drop([\"QAM_symbols\", 'Phase_shift'], axis=1)\\\n",
        ".groupby(by=['M', 'SNR'], as_index=False).mean()\n",
        "plt.figure(figsize=(7,4), dpi=100)\n",
        "sns.lineplot(x='SNR', y='Result', data=df4, hue='M',\n",
        "             style='M', markers=True, dashes=False,\n",
        "             palette='deep')\n",
        "plt.xlabel('SNR, дБ')\n",
        "plt.ylabel('Точность')"
      ],
      "execution_count": 30,
      "outputs": [
        {
          "output_type": "execute_result",
          "data": {
            "text/plain": [
              "Text(0, 0.5, 'Точность')"
            ]
          },
          "metadata": {
            "tags": []
          },
          "execution_count": 30
        },
        {
          "output_type": "display_data",
          "data": {
            "image/png": "[encoded data removed]",
            "text/plain": [
              "<Figure size 700x400 with 1 Axes>"
            ]
          },
          "metadata": {
            "tags": [],
            "needs_background": "light"
          }
        }
      ]
    },
    {
      "cell_type": "code",
      "metadata": {
        "id": "n7nthcetwyKX"
      },
      "source": [
        ""
      ],
      "execution_count": null,
      "outputs": []
    }
  ]
}
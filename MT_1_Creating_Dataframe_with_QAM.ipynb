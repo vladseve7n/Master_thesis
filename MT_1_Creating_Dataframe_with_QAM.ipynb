{
  "nbformat": 4,
  "nbformat_minor": 0,
  "metadata": {
    "colab": {
      "name": "MT_1_Creating_Dataframe_with_QAM.ipynb",
      "provenance": [],
      "authorship_tag": "ABX9TyOkqBBGTM/4wCODWwqIuFe7"
    },
    "kernelspec": {
      "name": "python3",
      "display_name": "Python 3"
    },
    "language_info": {
      "name": "python"
    },
    "widgets": {
      "application/vnd.jupyter.widget-state+json": {
        "51a7dd3bf3af473c849e59d3173ab385": {
          "model_module": "@jupyter-widgets/controls",
          "model_name": "HBoxModel",
          "state": {
            "_view_name": "HBoxView",
            "_dom_classes": [],
            "_model_name": "HBoxModel",
            "_view_module": "@jupyter-widgets/controls",
            "_model_module_version": "1.5.0",
            "_view_count": null,
            "_view_module_version": "1.5.0",
            "box_style": "",
            "layout": "IPY_MODEL_ed9060bf33b9422b8dd9df27c2b026f9",
            "_model_module": "@jupyter-widgets/controls",
            "children": [
              "IPY_MODEL_a1d8e26e1f5f4e4eab5a5ca9dee1a3b7",
              "IPY_MODEL_e993c158beb245589a3cbc60bdd07015"
            ]
          }
        },
        "ed9060bf33b9422b8dd9df27c2b026f9": {
          "model_module": "@jupyter-widgets/base",
          "model_name": "LayoutModel",
          "state": {
            "_view_name": "LayoutView",
            "grid_template_rows": null,
            "right": null,
            "justify_content": null,
            "_view_module": "@jupyter-widgets/base",
            "overflow": null,
            "_model_module_version": "1.2.0",
            "_view_count": null,
            "flex_flow": null,
            "width": null,
            "min_width": null,
            "border": null,
            "align_items": null,
            "bottom": null,
            "_model_module": "@jupyter-widgets/base",
            "top": null,
            "grid_column": null,
            "overflow_y": null,
            "overflow_x": null,
            "grid_auto_flow": null,
            "grid_area": null,
            "grid_template_columns": null,
            "flex": null,
            "_model_name": "LayoutModel",
            "justify_items": null,
            "grid_row": null,
            "max_height": null,
            "align_content": null,
            "visibility": null,
            "align_self": null,
            "height": null,
            "min_height": null,
            "padding": null,
            "grid_auto_rows": null,
            "grid_gap": null,
            "max_width": null,
            "order": null,
            "_view_module_version": "1.2.0",
            "grid_template_areas": null,
            "object_position": null,
            "object_fit": null,
            "grid_auto_columns": null,
            "margin": null,
            "display": null,
            "left": null
          }
        },
        "a1d8e26e1f5f4e4eab5a5ca9dee1a3b7": {
          "model_module": "@jupyter-widgets/controls",
          "model_name": "FloatProgressModel",
          "state": {
            "_view_name": "ProgressView",
            "style": "IPY_MODEL_1e37b6cbc7ad410e9b4dacc8bcffd17e",
            "_dom_classes": [],
            "description": "100%",
            "_model_name": "FloatProgressModel",
            "bar_style": "success",
            "max": 5,
            "_view_module": "@jupyter-widgets/controls",
            "_model_module_version": "1.5.0",
            "value": 5,
            "_view_count": null,
            "_view_module_version": "1.5.0",
            "orientation": "horizontal",
            "min": 0,
            "description_tooltip": null,
            "_model_module": "@jupyter-widgets/controls",
            "layout": "IPY_MODEL_8fbbfca05a6e48279db15c2e98c95a10"
          }
        },
        "e993c158beb245589a3cbc60bdd07015": {
          "model_module": "@jupyter-widgets/controls",
          "model_name": "HTMLModel",
          "state": {
            "_view_name": "HTMLView",
            "style": "IPY_MODEL_136404b95d8b4acf8d763da0cb86e2fd",
            "_dom_classes": [],
            "description": "",
            "_model_name": "HTMLModel",
            "placeholder": "​",
            "_view_module": "@jupyter-widgets/controls",
            "_model_module_version": "1.5.0",
            "value": " 5/5 [02:01&lt;00:00, 24.32s/it]",
            "_view_count": null,
            "_view_module_version": "1.5.0",
            "description_tooltip": null,
            "_model_module": "@jupyter-widgets/controls",
            "layout": "IPY_MODEL_1a1559fda1b54b4ea201bc30d8bd67d1"
          }
        },
        "1e37b6cbc7ad410e9b4dacc8bcffd17e": {
          "model_module": "@jupyter-widgets/controls",
          "model_name": "ProgressStyleModel",
          "state": {
            "_view_name": "StyleView",
            "_model_name": "ProgressStyleModel",
            "description_width": "initial",
            "_view_module": "@jupyter-widgets/base",
            "_model_module_version": "1.5.0",
            "_view_count": null,
            "_view_module_version": "1.2.0",
            "bar_color": null,
            "_model_module": "@jupyter-widgets/controls"
          }
        },
        "8fbbfca05a6e48279db15c2e98c95a10": {
          "model_module": "@jupyter-widgets/base",
          "model_name": "LayoutModel",
          "state": {
            "_view_name": "LayoutView",
            "grid_template_rows": null,
            "right": null,
            "justify_content": null,
            "_view_module": "@jupyter-widgets/base",
            "overflow": null,
            "_model_module_version": "1.2.0",
            "_view_count": null,
            "flex_flow": null,
            "width": null,
            "min_width": null,
            "border": null,
            "align_items": null,
            "bottom": null,
            "_model_module": "@jupyter-widgets/base",
            "top": null,
            "grid_column": null,
            "overflow_y": null,
            "overflow_x": null,
            "grid_auto_flow": null,
            "grid_area": null,
            "grid_template_columns": null,
            "flex": null,
            "_model_name": "LayoutModel",
            "justify_items": null,
            "grid_row": null,
            "max_height": null,
            "align_content": null,
            "visibility": null,
            "align_self": null,
            "height": null,
            "min_height": null,
            "padding": null,
            "grid_auto_rows": null,
            "grid_gap": null,
            "max_width": null,
            "order": null,
            "_view_module_version": "1.2.0",
            "grid_template_areas": null,
            "object_position": null,
            "object_fit": null,
            "grid_auto_columns": null,
            "margin": null,
            "display": null,
            "left": null
          }
        },
        "136404b95d8b4acf8d763da0cb86e2fd": {
          "model_module": "@jupyter-widgets/controls",
          "model_name": "DescriptionStyleModel",
          "state": {
            "_view_name": "StyleView",
            "_model_name": "DescriptionStyleModel",
            "description_width": "",
            "_view_module": "@jupyter-widgets/base",
            "_model_module_version": "1.5.0",
            "_view_count": null,
            "_view_module_version": "1.2.0",
            "_model_module": "@jupyter-widgets/controls"
          }
        },
        "1a1559fda1b54b4ea201bc30d8bd67d1": {
          "model_module": "@jupyter-widgets/base",
          "model_name": "LayoutModel",
          "state": {
            "_view_name": "LayoutView",
            "grid_template_rows": null,
            "right": null,
            "justify_content": null,
            "_view_module": "@jupyter-widgets/base",
            "overflow": null,
            "_model_module_version": "1.2.0",
            "_view_count": null,
            "flex_flow": null,
            "width": null,
            "min_width": null,
            "border": null,
            "align_items": null,
            "bottom": null,
            "_model_module": "@jupyter-widgets/base",
            "top": null,
            "grid_column": null,
            "overflow_y": null,
            "overflow_x": null,
            "grid_auto_flow": null,
            "grid_area": null,
            "grid_template_columns": null,
            "flex": null,
            "_model_name": "LayoutModel",
            "justify_items": null,
            "grid_row": null,
            "max_height": null,
            "align_content": null,
            "visibility": null,
            "align_self": null,
            "height": null,
            "min_height": null,
            "padding": null,
            "grid_auto_rows": null,
            "grid_gap": null,
            "max_width": null,
            "order": null,
            "_view_module_version": "1.2.0",
            "grid_template_areas": null,
            "object_position": null,
            "object_fit": null,
            "grid_auto_columns": null,
            "margin": null,
            "display": null,
            "left": null
          }
        }
      }
    }
  },
  "cells": [
    {
      "cell_type": "markdown",
      "metadata": {
        "id": "LqUXwMVNkWxJ"
      },
      "source": [
        "# Создание DataFrame с квадратурно-амплитудными символами модуляции"
      ]
    },
    {
      "cell_type": "markdown",
      "metadata": {
        "id": "T2m6tA7_kX-m"
      },
      "source": [
        "## Загрузим библеотеку ModulationPy и CommPy"
      ]
    },
    {
      "cell_type": "code",
      "metadata": {
        "id": "cVhRBWq_kWdN"
      },
      "source": [
        "! pip install ModulationPy\n",
        "! pip install scikit-commpy"
      ],
      "execution_count": null,
      "outputs": []
    },
    {
      "cell_type": "markdown",
      "metadata": {
        "id": "1Mj3krQ9k4d9"
      },
      "source": [
        "#### Создадим DataFrame, который будет хранить в себе параметры\n",
        "- Уровень модуляции M (4, 16, 64, 256, 1024) [5 вариантов];\n",
        "- Отношение сигнал шум (от 50 до 0 с шагом 2) [26 вариантов];\n",
        "- Фазовый сдвиг в градусах (от 0 до 90 с шагом 3) [31 вариантов];\n",
        "\n",
        "Так как с каждой страты `5*26*31=4030 страт` мы будем извлекать 3 последовательности QAM символов длиной = 4096 символов, то в итоге мы получим 12090 последовательностей QAM символов с разными параметрами"
      ]
    },
    {
      "cell_type": "code",
      "metadata": {
        "id": "f9mitKrrjd5J"
      },
      "source": [
        "# Подключение необходимых модулей, для создания и визуализации датасета \n",
        "import pandas as pd \n",
        "import numpy as np\n",
        "import matplotlib\n",
        "import matplotlib.pyplot as plt\n",
        "import ModulationPy as mpy\n",
        "from commpy.channels import awgn"
      ],
      "execution_count": 2,
      "outputs": []
    },
    {
      "cell_type": "markdown",
      "metadata": {
        "id": "A5oWAuGDW-TT"
      },
      "source": [
        "### Проверим нормальность распределения последовательности бит и последовательности чисео от 0 до M-1"
      ]
    },
    {
      "cell_type": "markdown",
      "metadata": {
        "id": "bOjro1LcXhWZ"
      },
      "source": [
        "Для это создадим два модулятора с разными параметрами"
      ]
    },
    {
      "cell_type": "code",
      "metadata": {
        "id": "M9f_jJhnSw5J"
      },
      "source": [
        "M = 256\n",
        "N = 1024\n",
        "bin_modulator = mpy.QAMModem(M, bin_input=True)\n",
        "symbols_modulator = mpy.QAMModem(M, bin_input=False)"
      ],
      "execution_count": 3,
      "outputs": []
    },
    {
      "cell_type": "markdown",
      "metadata": {
        "id": "xDvKx-VHX76E"
      },
      "source": [
        "И две последовательности: битовую и числовую"
      ]
    },
    {
      "cell_type": "code",
      "metadata": {
        "colab": {
          "base_uri": "https://localhost:8080/",
          "height": 0
        },
        "id": "aEThPDvKYWi4",
        "outputId": "7d12cf8c-d623-46b5-d856-150935c7e9b5"
      },
      "source": [
        "bin_consq = np.random.randint(2, size=int(N*np.log2(M)))\n",
        "symbols_consq = np.random.randint(M, size=N)\n",
        "bin_consq, symbols_consq"
      ],
      "execution_count": 4,
      "outputs": [
        {
          "output_type": "execute_result",
          "data": {
            "text/plain": [
              "(array([0, 1, 0, ..., 0, 1, 0]), array([  2,  58, 179, ..., 150, 201,  38]))"
            ]
          },
          "metadata": {
            "tags": []
          },
          "execution_count": 4
        }
      ]
    },
    {
      "cell_type": "markdown",
      "metadata": {
        "id": "mQ29EXQ5aM2R"
      },
      "source": [
        "Преобразуем битовую последовательность в числовую последовательность от 0 до M-1"
      ]
    },
    {
      "cell_type": "code",
      "metadata": {
        "colab": {
          "base_uri": "https://localhost:8080/",
          "height": 0
        },
        "id": "FDKCdf_ZYfUq",
        "outputId": "406cfdaf-c28d-4206-f946-8c4b2c222864"
      },
      "source": [
        "bin_symb_consq = np.resize(bin_consq, (N, int(np.log2(M))))\n",
        "# Функция для преобразования последовательности бит в число\n",
        "def bool2int(x):\n",
        "    y = 0\n",
        "    for i,j in enumerate(x):\n",
        "        y += j<<i\n",
        "    return y\n",
        "bin_symb_consq = np.array([bool2int(x[:]) for x in bin_symb_consq])\n",
        "bin_symb_consq, max(bin_symb_consq)"
      ],
      "execution_count": 5,
      "outputs": [
        {
          "output_type": "execute_result",
          "data": {
            "text/plain": [
              "(array([178,  86, 101, ...,  87, 127,  89]), 255)"
            ]
          },
          "metadata": {
            "tags": []
          },
          "execution_count": 5
        }
      ]
    },
    {
      "cell_type": "markdown",
      "metadata": {
        "id": "iTeqxEZheE6i"
      },
      "source": [
        "Построим гистограмму распределения"
      ]
    },
    {
      "cell_type": "code",
      "metadata": {
        "colab": {
          "base_uri": "https://localhost:8080/",
          "height": 373
        },
        "id": "mVnJN2FJb0gk",
        "outputId": "27dfcb07-a992-4186-c879-bac8385b47df"
      },
      "source": [
        "fig, (ax1, ax2) = plt.subplots(1, 2)\n",
        "fig.suptitle('Сравнение двух распределений символов модуляций')\n",
        "fig.set_size_inches(11, 5)\n",
        "ax1.hist(bin_symb_consq, bins=M);\n",
        "ax1.set_title('Гистограмма распр-ия от битовой посл-ти')\n",
        "ax2.hist(symbols_consq, bins=M);\n",
        "ax2.set_title('Гистограмма распр-ия от числовой посл-ти')"
      ],
      "execution_count": 6,
      "outputs": [
        {
          "output_type": "execute_result",
          "data": {
            "text/plain": [
              "Text(0.5, 1.0, 'Гистограмма распр-ия от числовой посл-ти')"
            ]
          },
          "metadata": {
            "tags": []
          },
          "execution_count": 6
        },
        {
          "output_type": "display_data",
          "data": {
            "image/png": "[encoded data removed]",
            "text/plain": [
              "<Figure size 792x360 with 2 Axes>"
            ]
          },
          "metadata": {
            "tags": [],
            "needs_background": "light"
          }
        }
      ]
    },
    {
      "cell_type": "markdown",
      "metadata": {
        "id": "786oTt4wgteX"
      },
      "source": [
        "Построим диаграмму созвездия для данных последовательностей"
      ]
    },
    {
      "cell_type": "code",
      "metadata": {
        "id": "SO570weUeiaW"
      },
      "source": [
        "# Модуляция\n",
        "bin_QAM = bin_modulator.modulate(bin_consq)\n",
        "symbols_QAM = symbols_modulator.modulate(symbols_consq)\n",
        "# Нормировка\n",
        "bin_QAM = bin_QAM/max(abs(bin_QAM))\n",
        "symbols_QAM = symbols_QAM/max(abs(symbols_QAM))"
      ],
      "execution_count": 7,
      "outputs": []
    },
    {
      "cell_type": "code",
      "metadata": {
        "colab": {
          "base_uri": "https://localhost:8080/",
          "height": 373
        },
        "id": "l3-CxZ3zg-Hw",
        "outputId": "8f6ae733-0ff9-4a7e-f87a-aa460abdb4ed"
      },
      "source": [
        "fig, (ax1, ax2) = plt.subplots(1, 2)\n",
        "fig.suptitle('Сравнение двух созвездий символов модуляций')\n",
        "fig.set_size_inches(11, 5)\n",
        "\n",
        "ax1.scatter(bin_QAM.imag, \n",
        "            bin_QAM.real,\n",
        "            marker='.',\n",
        "            s=1)\n",
        "\n",
        "ax1.axhline(0, c='black', dashes=(1, 1))\n",
        "ax1.axvline(0, c='black', dashes=(1, 1))\n",
        "\n",
        "ax1.set_title('Созвездие от битовой посл-ти')\n",
        "\n",
        "ax2.scatter(symbols_QAM.imag, \n",
        "            symbols_QAM.real,\n",
        "            marker='.',\n",
        "            s=1)\n",
        "\n",
        "ax2.set_title('Созвездие от числовой посл-ти')\n",
        "\n",
        "ax2.axhline(0, c='black', dashes=(1, 1))\n",
        "ax2.axvline(0, c='black', dashes=(1, 1))"
      ],
      "execution_count": 8,
      "outputs": [
        {
          "output_type": "execute_result",
          "data": {
            "text/plain": [
              "<matplotlib.lines.Line2D at 0x7f9c29432cd0>"
            ]
          },
          "metadata": {
            "tags": []
          },
          "execution_count": 8
        },
        {
          "output_type": "display_data",
          "data": {
            "image/png": "[encoded data removed]",
            "text/plain": [
              "<Figure size 792x360 with 2 Axes>"
            ]
          },
          "metadata": {
            "tags": [],
            "needs_background": "light"
          }
        }
      ]
    },
    {
      "cell_type": "markdown",
      "metadata": {
        "id": "8ylO1DZHrTII"
      },
      "source": [
        "## Создадим DataFrame, который будет хранить в себе параметры\n",
        "\n",
        "- Уровень модуляции M (4, 16, 64, 256, 1024) [5 вариантов];\n",
        "- Отношение сигнал шум (от 50 до 0 с шагом 2) [26 вариантов];\n",
        "- Фазовый сдвиг в градусах (от 0 до 90 с шагом 3) [31 вариантов];\n",
        "\n",
        "Так как с каждой страты `5*26*31=4030 страт` мы будем извлекать 3 последовательности QAM символов длиной = 4096 символов, то в итоге мы получим 12090 последовательностей QAM символов с разными параметрами\n",
        "\n",
        "\n",
        "-------------------------------------------------------------"
      ]
    },
    {
      "cell_type": "code",
      "metadata": {
        "colab": {
          "base_uri": "https://localhost:8080/",
          "height": 84,
          "referenced_widgets": [
            "51a7dd3bf3af473c849e59d3173ab385",
            "ed9060bf33b9422b8dd9df27c2b026f9",
            "a1d8e26e1f5f4e4eab5a5ca9dee1a3b7",
            "e993c158beb245589a3cbc60bdd07015",
            "1e37b6cbc7ad410e9b4dacc8bcffd17e",
            "8fbbfca05a6e48279db15c2e98c95a10",
            "136404b95d8b4acf8d763da0cb86e2fd",
            "1a1559fda1b54b4ea201bc30d8bd67d1"
          ]
        },
        "id": "nIpeJzPKr_nT",
        "outputId": "30396574-84e4-48d5-c96b-d3eff3bd3baa"
      },
      "source": [
        "# Создаем объект DataFrame с колонками: M, SNR, Phase_shift, QAM_symbols\n",
        "QAM_symbols_df = pd.DataFrame({'M':[1],\n",
        "                               'SNR':[1],\n",
        "                               'Phase_shift':[1],\n",
        "                               'QAM_symbols':[np.array([1+1j, \n",
        "                                                        1+1j, \n",
        "                                                        1+1j, \n",
        "                                                        1+1j])]}) \n",
        "from tqdm.notebook import tqdm # Установка прогресс бара\n",
        "\n",
        "N = 4096\n",
        "for M in tqdm([4, 16, 64, 256, 1024]): # Перебор уровней модуляции\n",
        "  # Объявляем модулятор\n",
        "  modulator = mpy.QAMModem(M, bin_input=False)\n",
        "  for SNR in range(50, -2, -2): # Перебор отношения сигнал\\шум\n",
        "    for sh in range(0, 93, 3): # Перебор фазовых сдвигов\n",
        "      for _ in range(3): # Выбираем 3 последовательности из страты\n",
        "        consq = np.random.randint(M, size=N) # Создаем последовательность \n",
        "        QAM_symbols = modulator.modulate(consq) # Процесс модуляции\n",
        "        QAM_symbols = awgn(QAM_symbols, SNR)\n",
        "        phase_shift = sh*np.pi/180 # Перевод градус в радианы\n",
        "        QAM_symbols = QAM_symbols/max(abs(QAM_symbols)) # Нормировка\n",
        "        QAM_symbols = QAM_symbols*np.exp(phase_shift*1j) # Добавление фазового сдвига\n",
        "        # Добавляем параметры в таблицу\n",
        "        QAM_symbols_df.loc[len(QAM_symbols_df.index)] = [int(M), \n",
        "                                                         SNR, \n",
        "                                                         sh, \n",
        "                                                         QAM_symbols]\n",
        "print(\"Завершенно!\")"
      ],
      "execution_count": 33,
      "outputs": [
        {
          "output_type": "display_data",
          "data": {
            "application/vnd.jupyter.widget-view+json": {
              "model_id": "51a7dd3bf3af473c849e59d3173ab385",
              "version_minor": 0,
              "version_major": 2
            },
            "text/plain": [
              "HBox(children=(FloatProgress(value=0.0, max=5.0), HTML(value='')))"
            ]
          },
          "metadata": {
            "tags": []
          }
        },
        {
          "output_type": "stream",
          "text": [
            "\n",
            "Завершенно!\n"
          ],
          "name": "stdout"
        }
      ]
    },
    {
      "cell_type": "code",
      "metadata": {
        "id": "Ox2EmJns1PGS"
      },
      "source": [
        "QAM_symbols_df = QAM_symbols_df.drop(index=0) # Удаляем первую добавочную строку"
      ],
      "execution_count": 34,
      "outputs": []
    },
    {
      "cell_type": "code",
      "metadata": {
        "colab": {
          "base_uri": "https://localhost:8080/",
          "height": 423
        },
        "id": "mh4cEXGX1xex",
        "outputId": "59afc477-fbb9-4b59-d264-102c166c0f97"
      },
      "source": [
        "QAM_symbols_df"
      ],
      "execution_count": 35,
      "outputs": [
        {
          "output_type": "execute_result",
          "data": {
            "text/html": [
              "<div>\n",
              "<style scoped>\n",
              "    .dataframe tbody tr th:only-of-type {\n",
              "        vertical-align: middle;\n",
              "    }\n",
              "\n",
              "    .dataframe tbody tr th {\n",
              "        vertical-align: top;\n",
              "    }\n",
              "\n",
              "    .dataframe thead th {\n",
              "        text-align: right;\n",
              "    }\n",
              "</style>\n",
              "<table border=\"1\" class=\"dataframe\">\n",
              "  <thead>\n",
              "    <tr style=\"text-align: right;\">\n",
              "      <th></th>\n",
              "      <th>M</th>\n",
              "      <th>SNR</th>\n",
              "      <th>Phase_shift</th>\n",
              "      <th>QAM_symbols</th>\n",
              "    </tr>\n",
              "  </thead>\n",
              "  <tbody>\n",
              "    <tr>\n",
              "      <th>1</th>\n",
              "      <td>4</td>\n",
              "      <td>50</td>\n",
              "      <td>0</td>\n",
              "      <td>[(-0.7036042890718478-0.7015965700383437j), (-...</td>\n",
              "    </tr>\n",
              "    <tr>\n",
              "      <th>2</th>\n",
              "      <td>4</td>\n",
              "      <td>50</td>\n",
              "      <td>0</td>\n",
              "      <td>[(0.7000176983831482+0.7017988294499098j), (-0...</td>\n",
              "    </tr>\n",
              "    <tr>\n",
              "      <th>3</th>\n",
              "      <td>4</td>\n",
              "      <td>50</td>\n",
              "      <td>0</td>\n",
              "      <td>[(-0.7012399175816748+0.7006997663287179j), (-...</td>\n",
              "    </tr>\n",
              "    <tr>\n",
              "      <th>4</th>\n",
              "      <td>4</td>\n",
              "      <td>50</td>\n",
              "      <td>3</td>\n",
              "      <td>[(-0.7373106306501424+0.6599227864856388j), (-...</td>\n",
              "    </tr>\n",
              "    <tr>\n",
              "      <th>5</th>\n",
              "      <td>4</td>\n",
              "      <td>50</td>\n",
              "      <td>3</td>\n",
              "      <td>[(-0.6654392596175167-0.738886801992581j), (-0...</td>\n",
              "    </tr>\n",
              "    <tr>\n",
              "      <th>...</th>\n",
              "      <td>...</td>\n",
              "      <td>...</td>\n",
              "      <td>...</td>\n",
              "      <td>...</td>\n",
              "    </tr>\n",
              "    <tr>\n",
              "      <th>12086</th>\n",
              "      <td>1024</td>\n",
              "      <td>0</td>\n",
              "      <td>87</td>\n",
              "      <td>[(-0.31081193074978336-0.303232417118603j), (-...</td>\n",
              "    </tr>\n",
              "    <tr>\n",
              "      <th>12087</th>\n",
              "      <td>1024</td>\n",
              "      <td>0</td>\n",
              "      <td>87</td>\n",
              "      <td>[(0.22578773868494298-0.15757383658954258j), (...</td>\n",
              "    </tr>\n",
              "    <tr>\n",
              "      <th>12088</th>\n",
              "      <td>1024</td>\n",
              "      <td>0</td>\n",
              "      <td>90</td>\n",
              "      <td>[(0.19868073334004457+0.2022611921770635j), (0...</td>\n",
              "    </tr>\n",
              "    <tr>\n",
              "      <th>12089</th>\n",
              "      <td>1024</td>\n",
              "      <td>0</td>\n",
              "      <td>90</td>\n",
              "      <td>[(0.018172504916361402-0.051394528036286705j),...</td>\n",
              "    </tr>\n",
              "    <tr>\n",
              "      <th>12090</th>\n",
              "      <td>1024</td>\n",
              "      <td>0</td>\n",
              "      <td>90</td>\n",
              "      <td>[(-0.2567308251680735-0.16141915325128683j), (...</td>\n",
              "    </tr>\n",
              "  </tbody>\n",
              "</table>\n",
              "<p>12090 rows × 4 columns</p>\n",
              "</div>"
            ],
            "text/plain": [
              "          M  ...                                        QAM_symbols\n",
              "1         4  ...  [(-0.7036042890718478-0.7015965700383437j), (-...\n",
              "2         4  ...  [(0.7000176983831482+0.7017988294499098j), (-0...\n",
              "3         4  ...  [(-0.7012399175816748+0.7006997663287179j), (-...\n",
              "4         4  ...  [(-0.7373106306501424+0.6599227864856388j), (-...\n",
              "5         4  ...  [(-0.6654392596175167-0.738886801992581j), (-0...\n",
              "...     ...  ...                                                ...\n",
              "12086  1024  ...  [(-0.31081193074978336-0.303232417118603j), (-...\n",
              "12087  1024  ...  [(0.22578773868494298-0.15757383658954258j), (...\n",
              "12088  1024  ...  [(0.19868073334004457+0.2022611921770635j), (0...\n",
              "12089  1024  ...  [(0.018172504916361402-0.051394528036286705j),...\n",
              "12090  1024  ...  [(-0.2567308251680735-0.16141915325128683j), (...\n",
              "\n",
              "[12090 rows x 4 columns]"
            ]
          },
          "metadata": {
            "tags": []
          },
          "execution_count": 35
        }
      ]
    },
    {
      "cell_type": "code",
      "metadata": {
        "id": "Jo4_lWAV5we0"
      },
      "source": [
        "test = QAM_symbols_df[(QAM_symbols_df.M == 64) & \n",
        "                      (QAM_symbols_df.SNR == 30) & \n",
        "                      (QAM_symbols_df.Phase_shift == 30)] \\\n",
        "                      .iloc[0].QAM_symbols"
      ],
      "execution_count": 53,
      "outputs": []
    },
    {
      "cell_type": "code",
      "metadata": {
        "colab": {
          "base_uri": "https://localhost:8080/",
          "height": 283
        },
        "id": "jarpYUik2ENk",
        "outputId": "16dc1508-dc73-40c9-c381-843cbd9ca023"
      },
      "source": [
        "plt.scatter(test.real, \n",
        "            test.imag,\n",
        "            c='black',\n",
        "            marker='.',\n",
        "            s=1)\n",
        "\n",
        "# plt.scatter(qam_signals_df.apply(abs), \n",
        "#             qam_signals_df.apply(abs),\n",
        "#             c='blue',\n",
        "#             marker='*',\n",
        "#             s=20)\n",
        "\n",
        "plt.axhline(0, c='black', dashes=(1, 1))\n",
        "plt.axvline(0, c='black', dashes=(1, 1))"
      ],
      "execution_count": 57,
      "outputs": [
        {
          "output_type": "execute_result",
          "data": {
            "text/plain": [
              "<matplotlib.lines.Line2D at 0x7f9c1a418fd0>"
            ]
          },
          "metadata": {
            "tags": []
          },
          "execution_count": 57
        },
        {
          "output_type": "display_data",
          "data": {
            "image/png": "[encoded data removed]",
            "text/plain": [
              "<Figure size 432x288 with 1 Axes>"
            ]
          },
          "metadata": {
            "tags": [],
            "needs_background": "light"
          }
        }
      ]
    },
    {
      "cell_type": "code",
      "metadata": {
        "colab": {
          "base_uri": "https://localhost:8080/",
          "height": 17
        },
        "id": "jKF65YA0B6tm",
        "outputId": "a0caef2e-6381-421f-bf4d-04f1929270dd"
      },
      "source": [
        "from google.colab import files\n",
        "QAM_symbols_df.to_csv('QAM_symbols_df.csv')\n",
        "files.download('QAM_symbols_df.csv')"
      ],
      "execution_count": 59,
      "outputs": [
        {
          "output_type": "display_data",
          "data": {
            "application/javascript": [
              "\n",
              "    async function download(id, filename, size) {\n",
              "      if (!google.colab.kernel.accessAllowed) {\n",
              "        return;\n",
              "      }\n",
              "      const div = document.createElement('div');\n",
              "      const label = document.createElement('label');\n",
              "      label.textContent = `Downloading \"${filename}\": `;\n",
              "      div.appendChild(label);\n",
              "      const progress = document.createElement('progress');\n",
              "      progress.max = size;\n",
              "      div.appendChild(progress);\n",
              "      document.body.appendChild(div);\n",
              "\n",
              "      const buffers = [];\n",
              "      let downloaded = 0;\n",
              "\n",
              "      const channel = await google.colab.kernel.comms.open(id);\n",
              "      // Send a message to notify the kernel that we're ready.\n",
              "      channel.send({})\n",
              "\n",
              "      for await (const message of channel.messages) {\n",
              "        // Send a message to notify the kernel that we're ready.\n",
              "        channel.send({})\n",
              "        if (message.buffers) {\n",
              "          for (const buffer of message.buffers) {\n",
              "            buffers.push(buffer);\n",
              "            downloaded += buffer.byteLength;\n",
              "            progress.value = downloaded;\n",
              "          }\n",
              "        }\n",
              "      }\n",
              "      const blob = new Blob(buffers, {type: 'application/binary'});\n",
              "      const a = document.createElement('a');\n",
              "      a.href = window.URL.createObjectURL(blob);\n",
              "      a.download = filename;\n",
              "      div.appendChild(a);\n",
              "      a.click();\n",
              "      div.remove();\n",
              "    }\n",
              "  "
            ],
            "text/plain": [
              "<IPython.core.display.Javascript object>"
            ]
          },
          "metadata": {
            "tags": []
          }
        },
        {
          "output_type": "display_data",
          "data": {
            "application/javascript": [
              "download(\"download_e43dde23-d223-4c8f-89f9-da372c2d9d2a\", \"QAM_symbols_df.csv\", 2033001)"
            ],
            "text/plain": [
              "<IPython.core.display.Javascript object>"
            ]
          },
          "metadata": {
            "tags": []
          }
        }
      ]
    }
  ]
}
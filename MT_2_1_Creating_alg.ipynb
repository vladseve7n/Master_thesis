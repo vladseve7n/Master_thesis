{
  "nbformat": 4,
  "nbformat_minor": 0,
  "metadata": {
    "colab": {
      "name": "MT_2_1_Creating_alg.ipynb",
      "provenance": [],
      "collapsed_sections": [],
      "mount_file_id": "16isw4JPuiVMlTgjJIFbEuTkygOegU1TW",
      "authorship_tag": "ABX9TyPcizby9B/HFwXfkzgl48nn"
    },
    "kernelspec": {
      "name": "python3",
      "display_name": "Python 3"
    },
    "language_info": {
      "name": "python"
    }
  },
  "cells": [
    {
      "cell_type": "markdown",
      "metadata": {
        "id": "GZtxoh9N4bnG"
      },
      "source": [
        "# Создание модуля для распознавания уровня модуляции QAM сигнала"
      ]
    },
    {
      "cell_type": "code",
      "metadata": {
        "id": "qyeorc074P4g"
      },
      "source": [
        "import pandas as pd \n",
        "import numpy as np\n",
        "import matplotlib\n",
        "import matplotlib.pyplot as plt\n",
        "import seaborn as sns"
      ],
      "execution_count": 1,
      "outputs": []
    },
    {
      "cell_type": "code",
      "metadata": {
        "id": "xMLCGWfECey1"
      },
      "source": [
        "df = pd.read_pickle('/content/drive/MyDrive/Thesis/QAM_symbols_df.csv')"
      ],
      "execution_count": 2,
      "outputs": []
    },
    {
      "cell_type": "markdown",
      "metadata": {
        "id": "K8ngf3ty2Kfy"
      },
      "source": [
        "Класс QAMDA имеет 4 метода:\n",
        "- Конструктор, который принимает параметры : `[bw_method, decimation, distance, window, prominence]`\n",
        "- Метод `get_params`, которые возвращает словарь со значениями параметров\n",
        "- Метод `return_closest`, для округления полученного алгоритмом значения до ближайшего из `[4, 16, 64, 256, 1024]`\n",
        "- Метод `analyze`, который анализирует последовательности для определения уровня модуляции"
      ]
    },
    {
      "cell_type": "code",
      "metadata": {
        "id": "XhFab79NQJyY"
      },
      "source": [
        "    from scipy.signal import find_peaks\n",
        "    from scipy.stats.kde import gaussian_kde"
      ],
      "execution_count": 3,
      "outputs": []
    },
    {
      "cell_type": "code",
      "metadata": {
        "id": "YFCBVz7G4ZwQ"
      },
      "source": [
        "class QAMDA():\n",
        "  ''' QAM Distribution Analyzer\n",
        "  A class that allows you to analyze the distribution of \n",
        "  a QAM signal to recognize the modulation level\n",
        "  '''\n",
        "  # [bw_method, децимации, distance, prominence]\n",
        "  def __init__(self,\n",
        "               bw_method=0.05,\n",
        "               decimation=24,\n",
        "               distance=24,\n",
        "               window=4,\n",
        "               prominence=(0.08, 1.1)\n",
        "               ):\n",
        "    self.bw_method=bw_method\n",
        "    self.decimation=int(decimation)\n",
        "    self.distance=int(distance)\n",
        "    self.window=int(window)\n",
        "    self.prominence=prominence\n",
        "\n",
        "  def get_parameters(self):\n",
        "    return {'bw_method':self.bw_method,\n",
        "            'decimation':self.decimation,\n",
        "            'distance':self.distance,\n",
        "            'window':self.window,\n",
        "            'prominence':self.prominence}\n",
        "\n",
        "  def return_closest(self, n):\n",
        "    return min([4, 16, 64, 256, 1024], key=lambda x:abs(x-n))\n",
        "\n",
        "  def analyze(self, consqs):\n",
        "    answer = []\n",
        "    for cons in consqs:\n",
        "      all_QAM = np.concatenate((abs(cons.real), abs(cons.imag)))\n",
        "      density = gaussian_kde(all_QAM, bw_method = self.bw_method)\n",
        "      N = len(all_QAM)\n",
        "      x = np.linspace(0, 1, int(N/self.decimation)) # создание массива иксов с децимацией в 16 раз\n",
        "      # Создание массива со значениями функции яд. оценки\n",
        "      derivation = np.array(density(x))\n",
        "      # Нормировка значений функции ядерной оценки\n",
        "      derivation = derivation/max(derivation)\n",
        "      # Небольшое сглаживания фильтром скользящего среднего\n",
        "      derivation = pd.Series(derivation).rolling(window=self.window).mean().values\n",
        "      # минимальное расстояние между пиками\n",
        "      distance =  int(len(x)*0.707/self.distance)\n",
        "      # prominence - параметр видимости пика\n",
        "      maxima = np.array(find_peaks(derivation, \n",
        "                                  distance=distance, \n",
        "                                  prominence=self.prominence))\n",
        "      answer.append(self.return_closest((len(maxima[0])**2)*4))\n",
        "    return answer\n"
      ],
      "execution_count": 4,
      "outputs": []
    },
    {
      "cell_type": "code",
      "metadata": {
        "id": "mggfoUFL-zjW"
      },
      "source": [
        "Analyzer = QAMDA()"
      ],
      "execution_count": 5,
      "outputs": []
    },
    {
      "cell_type": "code",
      "metadata": {
        "colab": {
          "base_uri": "https://localhost:8080/"
        },
        "id": "wDwnanwX_1oH",
        "outputId": "e85f71ff-9c60-48ac-bb59-469e8408e19a"
      },
      "source": [
        "Analyzer.get_parameters()"
      ],
      "execution_count": 6,
      "outputs": [
        {
          "output_type": "execute_result",
          "data": {
            "text/plain": [
              "{'bw_method': 0.05,\n",
              " 'decimation': 24,\n",
              " 'distance': 24,\n",
              " 'prominence': (0.08, 1.1),\n",
              " 'window': 4}"
            ]
          },
          "metadata": {
            "tags": []
          },
          "execution_count": 6
        }
      ]
    },
    {
      "cell_type": "code",
      "metadata": {
        "colab": {
          "base_uri": "https://localhost:8080/"
        },
        "id": "cCSiBcgs_3UX",
        "outputId": "30086ab3-1f7e-4749-c924-5ebd07a51d1e"
      },
      "source": [
        "result = Analyzer.analyze(np.array(df.QAM_symbols))"
      ],
      "execution_count": 7,
      "outputs": [
        {
          "output_type": "stream",
          "text": [
            "/usr/local/lib/python3.7/dist-packages/ipykernel_launcher.py:48: VisibleDeprecationWarning: Creating an ndarray from ragged nested sequences (which is a list-or-tuple of lists-or-tuples-or ndarrays with different lengths or shapes) is deprecated. If you meant to do this, you must specify 'dtype=object' when creating the ndarray\n"
          ],
          "name": "stderr"
        }
      ]
    },
    {
      "cell_type": "code",
      "metadata": {
        "id": "VOSDe0xupGtO"
      },
      "source": [
        "df1 = df.iloc[:]"
      ],
      "execution_count": 12,
      "outputs": []
    },
    {
      "cell_type": "code",
      "metadata": {
        "colab": {
          "base_uri": "https://localhost:8080/",
          "height": 419
        },
        "id": "B4pLqJDbpjll",
        "outputId": "f6cf0b8e-ba8c-44ad-ca79-eb838851d182"
      },
      "source": [
        "df1"
      ],
      "execution_count": 13,
      "outputs": [
        {
          "output_type": "execute_result",
          "data": {
            "text/html": [
              "<div>\n",
              "<style scoped>\n",
              "    .dataframe tbody tr th:only-of-type {\n",
              "        vertical-align: middle;\n",
              "    }\n",
              "\n",
              "    .dataframe tbody tr th {\n",
              "        vertical-align: top;\n",
              "    }\n",
              "\n",
              "    .dataframe thead th {\n",
              "        text-align: right;\n",
              "    }\n",
              "</style>\n",
              "<table border=\"1\" class=\"dataframe\">\n",
              "  <thead>\n",
              "    <tr style=\"text-align: right;\">\n",
              "      <th></th>\n",
              "      <th>M</th>\n",
              "      <th>SNR</th>\n",
              "      <th>Phase_shift</th>\n",
              "      <th>QAM_symbols</th>\n",
              "    </tr>\n",
              "  </thead>\n",
              "  <tbody>\n",
              "    <tr>\n",
              "      <th>1</th>\n",
              "      <td>4</td>\n",
              "      <td>50</td>\n",
              "      <td>0</td>\n",
              "      <td>[(0.7014392993075365-0.6989112769319755j), (0....</td>\n",
              "    </tr>\n",
              "    <tr>\n",
              "      <th>2</th>\n",
              "      <td>4</td>\n",
              "      <td>50</td>\n",
              "      <td>0</td>\n",
              "      <td>[(-0.7067526946873619-0.6995223913305271j), (0...</td>\n",
              "    </tr>\n",
              "    <tr>\n",
              "      <th>3</th>\n",
              "      <td>4</td>\n",
              "      <td>50</td>\n",
              "      <td>0</td>\n",
              "      <td>[(-0.6996921958171798+0.7009840192354847j), (-...</td>\n",
              "    </tr>\n",
              "    <tr>\n",
              "      <th>4</th>\n",
              "      <td>4</td>\n",
              "      <td>50</td>\n",
              "      <td>3</td>\n",
              "      <td>[(-0.7398838731040926+0.664625874417456j), (0....</td>\n",
              "    </tr>\n",
              "    <tr>\n",
              "      <th>5</th>\n",
              "      <td>4</td>\n",
              "      <td>50</td>\n",
              "      <td>3</td>\n",
              "      <td>[(0.739909895597325-0.6611057921027184j), (0.6...</td>\n",
              "    </tr>\n",
              "    <tr>\n",
              "      <th>...</th>\n",
              "      <td>...</td>\n",
              "      <td>...</td>\n",
              "      <td>...</td>\n",
              "      <td>...</td>\n",
              "    </tr>\n",
              "    <tr>\n",
              "      <th>12086</th>\n",
              "      <td>1024</td>\n",
              "      <td>0</td>\n",
              "      <td>87</td>\n",
              "      <td>[(0.18522224139101126+0.15108979133587475j), (...</td>\n",
              "    </tr>\n",
              "    <tr>\n",
              "      <th>12087</th>\n",
              "      <td>1024</td>\n",
              "      <td>0</td>\n",
              "      <td>87</td>\n",
              "      <td>[(-0.22127741229059017+0.07121604374153466j), ...</td>\n",
              "    </tr>\n",
              "    <tr>\n",
              "      <th>12088</th>\n",
              "      <td>1024</td>\n",
              "      <td>0</td>\n",
              "      <td>90</td>\n",
              "      <td>[(-0.40020864490078795-0.18589912117816118j), ...</td>\n",
              "    </tr>\n",
              "    <tr>\n",
              "      <th>12089</th>\n",
              "      <td>1024</td>\n",
              "      <td>0</td>\n",
              "      <td>90</td>\n",
              "      <td>[(-0.3619966950003602+0.04947952938787332j), (...</td>\n",
              "    </tr>\n",
              "    <tr>\n",
              "      <th>12090</th>\n",
              "      <td>1024</td>\n",
              "      <td>0</td>\n",
              "      <td>90</td>\n",
              "      <td>[(0.1884286329194047-0.06202493722064918j), (0...</td>\n",
              "    </tr>\n",
              "  </tbody>\n",
              "</table>\n",
              "<p>12090 rows × 4 columns</p>\n",
              "</div>"
            ],
            "text/plain": [
              "          M  ...                                        QAM_symbols\n",
              "1         4  ...  [(0.7014392993075365-0.6989112769319755j), (0....\n",
              "2         4  ...  [(-0.7067526946873619-0.6995223913305271j), (0...\n",
              "3         4  ...  [(-0.6996921958171798+0.7009840192354847j), (-...\n",
              "4         4  ...  [(-0.7398838731040926+0.664625874417456j), (0....\n",
              "5         4  ...  [(0.739909895597325-0.6611057921027184j), (0.6...\n",
              "...     ...  ...                                                ...\n",
              "12086  1024  ...  [(0.18522224139101126+0.15108979133587475j), (...\n",
              "12087  1024  ...  [(-0.22127741229059017+0.07121604374153466j), ...\n",
              "12088  1024  ...  [(-0.40020864490078795-0.18589912117816118j), ...\n",
              "12089  1024  ...  [(-0.3619966950003602+0.04947952938787332j), (...\n",
              "12090  1024  ...  [(0.1884286329194047-0.06202493722064918j), (0...\n",
              "\n",
              "[12090 rows x 4 columns]"
            ]
          },
          "metadata": {
            "tags": []
          },
          "execution_count": 13
        }
      ]
    },
    {
      "cell_type": "code",
      "metadata": {
        "id": "KLRNyCi_pnUk"
      },
      "source": [
        "df1['Answer'] = result"
      ],
      "execution_count": 14,
      "outputs": []
    },
    {
      "cell_type": "code",
      "metadata": {
        "id": "TTL4sT-UwsZF"
      },
      "source": [
        "df1['Result'] = (df1.Answer == df1.M)"
      ],
      "execution_count": 15,
      "outputs": []
    },
    {
      "cell_type": "markdown",
      "metadata": {
        "id": "ZAQM_ssG3h6x"
      },
      "source": [
        "Результаты точности метода для общего датасета по уровню модуляции"
      ]
    },
    {
      "cell_type": "code",
      "metadata": {
        "colab": {
          "base_uri": "https://localhost:8080/",
          "height": 204
        },
        "id": "sgM5MBxpw_PP",
        "outputId": "41e9d81a-cec7-42ec-9293-b344a641b8c4"
      },
      "source": [
        "df1.drop([\"QAM_symbols\", 'Phase_shift', 'Answer', 'SNR'], axis=1)\\\n",
        ".groupby(by=['M'], as_index=False).mean()\n"
      ],
      "execution_count": 16,
      "outputs": [
        {
          "output_type": "execute_result",
          "data": {
            "text/html": [
              "<div>\n",
              "<style scoped>\n",
              "    .dataframe tbody tr th:only-of-type {\n",
              "        vertical-align: middle;\n",
              "    }\n",
              "\n",
              "    .dataframe tbody tr th {\n",
              "        vertical-align: top;\n",
              "    }\n",
              "\n",
              "    .dataframe thead th {\n",
              "        text-align: right;\n",
              "    }\n",
              "</style>\n",
              "<table border=\"1\" class=\"dataframe\">\n",
              "  <thead>\n",
              "    <tr style=\"text-align: right;\">\n",
              "      <th></th>\n",
              "      <th>M</th>\n",
              "      <th>Result</th>\n",
              "    </tr>\n",
              "  </thead>\n",
              "  <tbody>\n",
              "    <tr>\n",
              "      <th>0</th>\n",
              "      <td>4</td>\n",
              "      <td>0.239041</td>\n",
              "    </tr>\n",
              "    <tr>\n",
              "      <th>1</th>\n",
              "      <td>16</td>\n",
              "      <td>0.343672</td>\n",
              "    </tr>\n",
              "    <tr>\n",
              "      <th>2</th>\n",
              "      <td>64</td>\n",
              "      <td>0.262614</td>\n",
              "    </tr>\n",
              "    <tr>\n",
              "      <th>3</th>\n",
              "      <td>256</td>\n",
              "      <td>0.253102</td>\n",
              "    </tr>\n",
              "    <tr>\n",
              "      <th>4</th>\n",
              "      <td>1024</td>\n",
              "      <td>0.046733</td>\n",
              "    </tr>\n",
              "  </tbody>\n",
              "</table>\n",
              "</div>"
            ],
            "text/plain": [
              "      M    Result\n",
              "0     4  0.239041\n",
              "1    16  0.343672\n",
              "2    64  0.262614\n",
              "3   256  0.253102\n",
              "4  1024  0.046733"
            ]
          },
          "metadata": {
            "tags": []
          },
          "execution_count": 16
        }
      ]
    },
    {
      "cell_type": "markdown",
      "metadata": {
        "id": "SlzBz9Yx3szQ"
      },
      "source": [
        "Общая точность метода для общего датасета"
      ]
    },
    {
      "cell_type": "code",
      "metadata": {
        "colab": {
          "base_uri": "https://localhost:8080/"
        },
        "id": "oE0_6hi_zWUH",
        "outputId": "ddc002e2-a6a4-4716-8833-ba436a63a11b"
      },
      "source": [
        "df1.Result.mean()"
      ],
      "execution_count": 17,
      "outputs": [
        {
          "output_type": "execute_result",
          "data": {
            "text/plain": [
              "0.22903225806451613"
            ]
          },
          "metadata": {
            "tags": []
          },
          "execution_count": 17
        }
      ]
    },
    {
      "cell_type": "markdown",
      "metadata": {
        "id": "dVnsz2EK3wkj"
      },
      "source": [
        "Точность метода по уровню модуляции, при условии отсуствия фазового сдвига"
      ]
    },
    {
      "cell_type": "code",
      "metadata": {
        "colab": {
          "base_uri": "https://localhost:8080/",
          "height": 306
        },
        "id": "8SWNS-GQpv51",
        "outputId": "8d63a4f7-7f48-4fe1-e5fb-bd0a657e3c95"
      },
      "source": [
        "df2 = df1[df1.Phase_shift==0]\n",
        "df2['Result'] = (df2.Answer == df2.M)\n",
        "df2.drop([\"QAM_symbols\", 'Phase_shift', 'Answer', 'SNR'], axis=1)\\\n",
        ".groupby(by=['M'], as_index=False).mean()"
      ],
      "execution_count": 18,
      "outputs": [
        {
          "output_type": "stream",
          "text": [
            "/usr/local/lib/python3.7/dist-packages/ipykernel_launcher.py:2: SettingWithCopyWarning: \n",
            "A value is trying to be set on a copy of a slice from a DataFrame.\n",
            "Try using .loc[row_indexer,col_indexer] = value instead\n",
            "\n",
            "See the caveats in the documentation: https://pandas.pydata.org/pandas-docs/stable/user_guide/indexing.html#returning-a-view-versus-a-copy\n",
            "  \n"
          ],
          "name": "stderr"
        },
        {
          "output_type": "execute_result",
          "data": {
            "text/html": [
              "<div>\n",
              "<style scoped>\n",
              "    .dataframe tbody tr th:only-of-type {\n",
              "        vertical-align: middle;\n",
              "    }\n",
              "\n",
              "    .dataframe tbody tr th {\n",
              "        vertical-align: top;\n",
              "    }\n",
              "\n",
              "    .dataframe thead th {\n",
              "        text-align: right;\n",
              "    }\n",
              "</style>\n",
              "<table border=\"1\" class=\"dataframe\">\n",
              "  <thead>\n",
              "    <tr style=\"text-align: right;\">\n",
              "      <th></th>\n",
              "      <th>M</th>\n",
              "      <th>Result</th>\n",
              "    </tr>\n",
              "  </thead>\n",
              "  <tbody>\n",
              "    <tr>\n",
              "      <th>0</th>\n",
              "      <td>4</td>\n",
              "      <td>0.923077</td>\n",
              "    </tr>\n",
              "    <tr>\n",
              "      <th>1</th>\n",
              "      <td>16</td>\n",
              "      <td>0.923077</td>\n",
              "    </tr>\n",
              "    <tr>\n",
              "      <th>2</th>\n",
              "      <td>64</td>\n",
              "      <td>0.743590</td>\n",
              "    </tr>\n",
              "    <tr>\n",
              "      <th>3</th>\n",
              "      <td>256</td>\n",
              "      <td>0.564103</td>\n",
              "    </tr>\n",
              "    <tr>\n",
              "      <th>4</th>\n",
              "      <td>1024</td>\n",
              "      <td>0.423077</td>\n",
              "    </tr>\n",
              "  </tbody>\n",
              "</table>\n",
              "</div>"
            ],
            "text/plain": [
              "      M    Result\n",
              "0     4  0.923077\n",
              "1    16  0.923077\n",
              "2    64  0.743590\n",
              "3   256  0.564103\n",
              "4  1024  0.423077"
            ]
          },
          "metadata": {
            "tags": []
          },
          "execution_count": 18
        }
      ]
    },
    {
      "cell_type": "markdown",
      "metadata": {
        "id": "Huyc8FEU38dj"
      },
      "source": [
        "Общая точность метода, при условии отсуствия фазового сдвига"
      ]
    },
    {
      "cell_type": "code",
      "metadata": {
        "colab": {
          "base_uri": "https://localhost:8080/"
        },
        "id": "cwle73_lza_U",
        "outputId": "9e254690-780a-4924-d429-7e6f8513c6e5"
      },
      "source": [
        "df2.Result.mean()"
      ],
      "execution_count": 19,
      "outputs": [
        {
          "output_type": "execute_result",
          "data": {
            "text/plain": [
              "0.7153846153846154"
            ]
          },
          "metadata": {
            "tags": []
          },
          "execution_count": 19
        }
      ]
    },
    {
      "cell_type": "code",
      "metadata": {
        "colab": {
          "base_uri": "https://localhost:8080/",
          "height": 227
        },
        "id": "w-YxF0qQrTv0",
        "outputId": "5975ff83-c84e-458f-ef00-b108f2965971"
      },
      "source": [
        "df3 = df2.drop([\"QAM_symbols\", 'Phase_shift', 'Answer'], axis=1)\n",
        "df3.SNR[(df.SNR >= 0) & (df.SNR < 15)] = '[0, 15)'\n",
        "df3.SNR[(df.SNR >= 15) & (df.SNR < 30)] = '[15, 30)'\n",
        "df3.SNR[(df.SNR >= 30) & (df.SNR <= 50)] = '[30, 50)'\n",
        "df3.groupby(by=['M', 'SNR'], as_index=False).mean().transpose()"
      ],
      "execution_count": 22,
      "outputs": [
        {
          "output_type": "stream",
          "text": [
            "/usr/local/lib/python3.7/dist-packages/ipykernel_launcher.py:2: SettingWithCopyWarning: \n",
            "A value is trying to be set on a copy of a slice from a DataFrame\n",
            "\n",
            "See the caveats in the documentation: https://pandas.pydata.org/pandas-docs/stable/user_guide/indexing.html#returning-a-view-versus-a-copy\n",
            "  \n"
          ],
          "name": "stderr"
        },
        {
          "output_type": "execute_result",
          "data": {
            "text/html": [
              "<div>\n",
              "<style scoped>\n",
              "    .dataframe tbody tr th:only-of-type {\n",
              "        vertical-align: middle;\n",
              "    }\n",
              "\n",
              "    .dataframe tbody tr th {\n",
              "        vertical-align: top;\n",
              "    }\n",
              "\n",
              "    .dataframe thead th {\n",
              "        text-align: right;\n",
              "    }\n",
              "</style>\n",
              "<table border=\"1\" class=\"dataframe\">\n",
              "  <thead>\n",
              "    <tr style=\"text-align: right;\">\n",
              "      <th></th>\n",
              "      <th>0</th>\n",
              "      <th>1</th>\n",
              "      <th>2</th>\n",
              "      <th>3</th>\n",
              "      <th>4</th>\n",
              "      <th>5</th>\n",
              "      <th>6</th>\n",
              "      <th>7</th>\n",
              "      <th>8</th>\n",
              "      <th>9</th>\n",
              "      <th>10</th>\n",
              "      <th>11</th>\n",
              "      <th>12</th>\n",
              "      <th>13</th>\n",
              "      <th>14</th>\n",
              "    </tr>\n",
              "  </thead>\n",
              "  <tbody>\n",
              "    <tr>\n",
              "      <th>M</th>\n",
              "      <td>4</td>\n",
              "      <td>4</td>\n",
              "      <td>4</td>\n",
              "      <td>16</td>\n",
              "      <td>16</td>\n",
              "      <td>16</td>\n",
              "      <td>64</td>\n",
              "      <td>64</td>\n",
              "      <td>64</td>\n",
              "      <td>256</td>\n",
              "      <td>256</td>\n",
              "      <td>256</td>\n",
              "      <td>1024</td>\n",
              "      <td>1024</td>\n",
              "      <td>1024</td>\n",
              "    </tr>\n",
              "    <tr>\n",
              "      <th>SNR</th>\n",
              "      <td>[0, 15)</td>\n",
              "      <td>[15, 30)</td>\n",
              "      <td>[30, 50)</td>\n",
              "      <td>[0, 15)</td>\n",
              "      <td>[15, 30)</td>\n",
              "      <td>[30, 50)</td>\n",
              "      <td>[0, 15)</td>\n",
              "      <td>[15, 30)</td>\n",
              "      <td>[30, 50)</td>\n",
              "      <td>[0, 15)</td>\n",
              "      <td>[15, 30)</td>\n",
              "      <td>[30, 50)</td>\n",
              "      <td>[0, 15)</td>\n",
              "      <td>[15, 30)</td>\n",
              "      <td>[30, 50)</td>\n",
              "    </tr>\n",
              "    <tr>\n",
              "      <th>Result</th>\n",
              "      <td>0.75</td>\n",
              "      <td>1</td>\n",
              "      <td>1</td>\n",
              "      <td>0.75</td>\n",
              "      <td>1</td>\n",
              "      <td>1</td>\n",
              "      <td>0.166667</td>\n",
              "      <td>1</td>\n",
              "      <td>1</td>\n",
              "      <td>0</td>\n",
              "      <td>0.52381</td>\n",
              "      <td>1</td>\n",
              "      <td>0</td>\n",
              "      <td>0</td>\n",
              "      <td>1</td>\n",
              "    </tr>\n",
              "  </tbody>\n",
              "</table>\n",
              "</div>"
            ],
            "text/plain": [
              "             0         1         2   ...       12        13        14\n",
              "M             4         4         4  ...     1024      1024      1024\n",
              "SNR     [0, 15)  [15, 30)  [30, 50)  ...  [0, 15)  [15, 30)  [30, 50)\n",
              "Result     0.75         1         1  ...        0         0         1\n",
              "\n",
              "[3 rows x 15 columns]"
            ]
          },
          "metadata": {
            "tags": []
          },
          "execution_count": 22
        }
      ]
    },
    {
      "cell_type": "code",
      "metadata": {
        "colab": {
          "base_uri": "https://localhost:8080/",
          "height": 399
        },
        "id": "C1WA7HmfSz_1",
        "outputId": "eb68cf99-2147-4da1-fa92-2874dd4af708"
      },
      "source": [
        "df4 = df2.drop([\"QAM_symbols\", 'Phase_shift', 'Answer'], axis=1)\\\n",
        ".groupby(by=['M', 'SNR'], as_index=False).mean()\n",
        "plt.figure(figsize=(7,4), dpi=100)\n",
        "sns.lineplot(x='SNR', y='Result', data=df4, hue='M',\n",
        "             style='M', markers=True, dashes=False,\n",
        "             palette='deep')\n",
        "plt.xlabel('SNR, дБ')\n",
        "plt.ylabel('Точность')"
      ],
      "execution_count": 23,
      "outputs": [
        {
          "output_type": "execute_result",
          "data": {
            "text/plain": [
              "Text(0, 0.5, 'Точность')"
            ]
          },
          "metadata": {
            "tags": []
          },
          "execution_count": 23
        },
        {
          "output_type": "display_data",
          "data": {
            "image/png": "[encoded data removed]",
            "text/plain": [
              "<Figure size 700x400 with 1 Axes>"
            ]
          },
          "metadata": {
            "tags": [],
            "needs_background": "light"
          }
        }
      ]
    },
    {
      "cell_type": "markdown",
      "metadata": {
        "id": "c_M6zzkf6RSe"
      },
      "source": [
        "# Подбор оптимальных параметров\n",
        "Так как наша модель имеет странные результаты для QAM4 где при меньших значения сигнал\\шум получаются результаты лучше, чем при больших, следовательно параметры, которые были подобраны нуждаются в доработке.\n",
        "Поэтому сделаем алгоритм, который переберёт параметры модели для того, чтобы определить наилучший результат \n",
        "Для подбора оптимальных параметров будем использовать выборку, в которой отсуствует фазовый сдвиг\n",
        "Поиск оптимальных параметров будет осуществляться среди следующих значений\n",
        "- bw_method `[0.01, 0.05, 0.08 , 0.1]`, 4 варианта\n",
        "- decimation `[12, 24, 32]`, 3 варианта\n",
        "- distance `[12, 24, 32]`, 3 варианта\n",
        "- window `[4, 8, 12, 16, 20]`, 5 вариантов\n",
        "- prominence `[0.03, 0.05, 0.08]`, 3 варианта\n",
        "\n",
        "Таким образом у нас получается 540 вариантов моделей, среди которых следует определить наилучшую"
      ]
    },
    {
      "cell_type": "code",
      "metadata": {
        "id": "E3LneW2S9-yS"
      },
      "source": [
        "opt_par_df = pd.DataFrame({'bw_method':[],\n",
        "            'decimation':[],\n",
        "            'distance':[],\n",
        "            'window':[],\n",
        "            'prominence':[],\n",
        "            'total':[],\n",
        "            '4':[],\n",
        "            '16':[],\n",
        "            '64':[],\n",
        "            '256':[],\n",
        "            '1024':[]})"
      ],
      "execution_count": null,
      "outputs": []
    },
    {
      "cell_type": "code",
      "metadata": {
        "colab": {
          "base_uri": "https://localhost:8080/",
          "height": 49
        },
        "id": "GkHyxxIF-cG3",
        "outputId": "9e056a38-b821-45ad-8c30-5e53be694b03"
      },
      "source": [
        "opt_par_df"
      ],
      "execution_count": null,
      "outputs": [
        {
          "output_type": "execute_result",
          "data": {
            "text/html": [
              "<div>\n",
              "<style scoped>\n",
              "    .dataframe tbody tr th:only-of-type {\n",
              "        vertical-align: middle;\n",
              "    }\n",
              "\n",
              "    .dataframe tbody tr th {\n",
              "        vertical-align: top;\n",
              "    }\n",
              "\n",
              "    .dataframe thead th {\n",
              "        text-align: right;\n",
              "    }\n",
              "</style>\n",
              "<table border=\"1\" class=\"dataframe\">\n",
              "  <thead>\n",
              "    <tr style=\"text-align: right;\">\n",
              "      <th></th>\n",
              "      <th>bw_method</th>\n",
              "      <th>decimation</th>\n",
              "      <th>distance</th>\n",
              "      <th>window</th>\n",
              "      <th>prominence</th>\n",
              "      <th>total</th>\n",
              "      <th>4</th>\n",
              "      <th>16</th>\n",
              "      <th>64</th>\n",
              "      <th>256</th>\n",
              "      <th>1024</th>\n",
              "    </tr>\n",
              "  </thead>\n",
              "  <tbody>\n",
              "  </tbody>\n",
              "</table>\n",
              "</div>"
            ],
            "text/plain": [
              "Empty DataFrame\n",
              "Columns: [bw_method, decimation, distance, window, prominence, total, 4, 16, 64, 256, 1024]\n",
              "Index: []"
            ]
          },
          "metadata": {
            "tags": []
          },
          "execution_count": 21
        }
      ]
    },
    {
      "cell_type": "code",
      "metadata": {
        "id": "ibGFw65R-rJm"
      },
      "source": [
        "test_df = df[df.Phase_shift==0].drop('Phase_shift', axis=1)\n",
        "QAM_test = test_df.QAM_symbols\n",
        "test_df = test_df.drop('QAM_symbols', axis=1)"
      ],
      "execution_count": 25,
      "outputs": []
    },
    {
      "cell_type": "code",
      "metadata": {
        "cellView": "code",
        "id": "MWtWC7Jb43DV"
      },
      "source": [
        "from tqdm.notebook import tqdm # Установка прогресс бара\n",
        "# Перебор параметров\n",
        "for w in tqdm([4, 8, 12, 16, 20]):\n",
        "  window = w\n",
        "  for p in [0.03, 0.05, 0.08]:\n",
        "    prominence = (p, 1.1) \n",
        "    for b in [0.01, 0.05, 0.08 , 0.1]:\n",
        "      bw_method = b\n",
        "      for de in [12, 24, 32]:\n",
        "        decimation = de\n",
        "        for di in [12, 24, 32]:\n",
        "          distance = di\n",
        "          # Создание модуля с текущими параметрами\n",
        "          Analyzer = QAMDA(bw_method=bw_method,\n",
        "                          decimation=decimation,\n",
        "                          distance=distance,\n",
        "                          window=window,\n",
        "                          prominence=prominence   \n",
        "          )\n",
        "          # Получение анализа\n",
        "          result = Analyzer.analyze(np.array(QAM_test))\n",
        "          # Сравнение результатов\n",
        "          test_df['Answers'] = np.array(result)\n",
        "          test_df['Result'] = (test_df.Answers == test_df.M)\n",
        "          # Разбор результатов по уровню модуляции\n",
        "          M = test_df.drop(['SNR', 'Answers'], axis=1).groupby('M', as_index=False).mean()\n",
        "          # Запись полученных результатов в итоговую таблицу\n",
        "          opt_par_df.loc[len(opt_par_df.index)] = [bw_method,\n",
        "                                                  decimation,\n",
        "                                                  distance,\n",
        "                                                  window,\n",
        "                                                  prominence,\n",
        "                                                  test_df.Result.mean(),\n",
        "                                                  M.Result[0],\n",
        "                                                  M.Result[1],\n",
        "                                                  M.Result[2],\n",
        "                                                  M.Result[3],\n",
        "                                                  M.Result[4]]\n",
        "          "
      ],
      "execution_count": null,
      "outputs": []
    },
    {
      "cell_type": "markdown",
      "metadata": {
        "id": "i6kuplFANI75"
      },
      "source": [
        "Округление значений до 3 знака после запятой"
      ]
    },
    {
      "cell_type": "code",
      "metadata": {
        "id": "HKQKvbu0P6B8"
      },
      "source": [
        "opt_par_df[['total', '4', '16', '64', '256', '1024']] = opt_par_df[['total', '4', '16', '64', '256', '1024']].round(3)"
      ],
      "execution_count": null,
      "outputs": []
    },
    {
      "cell_type": "markdown",
      "metadata": {
        "id": "sLo9m4HDL6XH"
      },
      "source": [
        "Самые оптимальные параметры"
      ]
    },
    {
      "cell_type": "code",
      "metadata": {
        "colab": {
          "base_uri": "https://localhost:8080/",
          "height": 206
        },
        "id": "B974gwuKFICv",
        "outputId": "0dd08b4b-1ce9-45c2-80e1-24842e2bd39f"
      },
      "source": [
        "opt_par_df.sort_values('total', ascending=False).head(5)"
      ],
      "execution_count": null,
      "outputs": [
        {
          "output_type": "execute_result",
          "data": {
            "text/html": [
              "<div>\n",
              "<style scoped>\n",
              "    .dataframe tbody tr th:only-of-type {\n",
              "        vertical-align: middle;\n",
              "    }\n",
              "\n",
              "    .dataframe tbody tr th {\n",
              "        vertical-align: top;\n",
              "    }\n",
              "\n",
              "    .dataframe thead th {\n",
              "        text-align: right;\n",
              "    }\n",
              "</style>\n",
              "<table border=\"1\" class=\"dataframe\">\n",
              "  <thead>\n",
              "    <tr style=\"text-align: right;\">\n",
              "      <th></th>\n",
              "      <th>bw_method</th>\n",
              "      <th>decimation</th>\n",
              "      <th>distance</th>\n",
              "      <th>window</th>\n",
              "      <th>prominence</th>\n",
              "      <th>total</th>\n",
              "      <th>4</th>\n",
              "      <th>16</th>\n",
              "      <th>64</th>\n",
              "      <th>256</th>\n",
              "      <th>1024</th>\n",
              "    </tr>\n",
              "  </thead>\n",
              "  <tbody>\n",
              "    <tr>\n",
              "      <th>116</th>\n",
              "      <td>0.01</td>\n",
              "      <td>32.0</td>\n",
              "      <td>32.0</td>\n",
              "      <td>8.0</td>\n",
              "      <td>(0.03, 1.1)</td>\n",
              "      <td>0.767</td>\n",
              "      <td>0.846</td>\n",
              "      <td>0.808</td>\n",
              "      <td>0.872</td>\n",
              "      <td>0.821</td>\n",
              "      <td>0.487</td>\n",
              "    </tr>\n",
              "    <tr>\n",
              "      <th>289</th>\n",
              "      <td>0.01</td>\n",
              "      <td>12.0</td>\n",
              "      <td>24.0</td>\n",
              "      <td>12.0</td>\n",
              "      <td>(0.08, 1.1)</td>\n",
              "      <td>0.764</td>\n",
              "      <td>0.885</td>\n",
              "      <td>0.833</td>\n",
              "      <td>0.859</td>\n",
              "      <td>0.782</td>\n",
              "      <td>0.462</td>\n",
              "    </tr>\n",
              "    <tr>\n",
              "      <th>290</th>\n",
              "      <td>0.01</td>\n",
              "      <td>12.0</td>\n",
              "      <td>32.0</td>\n",
              "      <td>12.0</td>\n",
              "      <td>(0.08, 1.1)</td>\n",
              "      <td>0.764</td>\n",
              "      <td>0.885</td>\n",
              "      <td>0.833</td>\n",
              "      <td>0.859</td>\n",
              "      <td>0.782</td>\n",
              "      <td>0.462</td>\n",
              "    </tr>\n",
              "    <tr>\n",
              "      <th>148</th>\n",
              "      <td>0.01</td>\n",
              "      <td>24.0</td>\n",
              "      <td>24.0</td>\n",
              "      <td>8.0</td>\n",
              "      <td>(0.05, 1.1)</td>\n",
              "      <td>0.762</td>\n",
              "      <td>0.859</td>\n",
              "      <td>0.808</td>\n",
              "      <td>0.885</td>\n",
              "      <td>0.795</td>\n",
              "      <td>0.462</td>\n",
              "    </tr>\n",
              "    <tr>\n",
              "      <th>361</th>\n",
              "      <td>0.01</td>\n",
              "      <td>12.0</td>\n",
              "      <td>24.0</td>\n",
              "      <td>16.0</td>\n",
              "      <td>(0.05, 1.1)</td>\n",
              "      <td>0.762</td>\n",
              "      <td>0.846</td>\n",
              "      <td>0.808</td>\n",
              "      <td>0.897</td>\n",
              "      <td>0.795</td>\n",
              "      <td>0.462</td>\n",
              "    </tr>\n",
              "  </tbody>\n",
              "</table>\n",
              "</div>"
            ],
            "text/plain": [
              "     bw_method  decimation  distance  window  ...     16     64    256   1024\n",
              "116       0.01        32.0      32.0     8.0  ...  0.808  0.872  0.821  0.487\n",
              "289       0.01        12.0      24.0    12.0  ...  0.833  0.859  0.782  0.462\n",
              "290       0.01        12.0      32.0    12.0  ...  0.833  0.859  0.782  0.462\n",
              "148       0.01        24.0      24.0     8.0  ...  0.808  0.885  0.795  0.462\n",
              "361       0.01        12.0      24.0    16.0  ...  0.808  0.897  0.795  0.462\n",
              "\n",
              "[5 rows x 11 columns]"
            ]
          },
          "metadata": {
            "tags": []
          },
          "execution_count": 42
        }
      ]
    },
    {
      "cell_type": "markdown",
      "metadata": {
        "id": "BgrG_TWOMMGQ"
      },
      "source": [
        "Оптимальные параметры для QAM4:"
      ]
    },
    {
      "cell_type": "code",
      "metadata": {
        "colab": {
          "base_uri": "https://localhost:8080/",
          "height": 241
        },
        "id": "p1nzO41OLnSG",
        "outputId": "8449e9fd-0fce-43c2-e2f4-9d4bab46915c"
      },
      "source": [
        "opt_par_df.sort_values('4', ascending=False)[opt_par_df.total > 0.7].head(5)"
      ],
      "execution_count": null,
      "outputs": [
        {
          "output_type": "stream",
          "text": [
            "/usr/local/lib/python3.7/dist-packages/ipykernel_launcher.py:1: UserWarning: Boolean Series key will be reindexed to match DataFrame index.\n",
            "  \"\"\"Entry point for launching an IPython kernel.\n"
          ],
          "name": "stderr"
        },
        {
          "output_type": "execute_result",
          "data": {
            "text/html": [
              "<div>\n",
              "<style scoped>\n",
              "    .dataframe tbody tr th:only-of-type {\n",
              "        vertical-align: middle;\n",
              "    }\n",
              "\n",
              "    .dataframe tbody tr th {\n",
              "        vertical-align: top;\n",
              "    }\n",
              "\n",
              "    .dataframe thead th {\n",
              "        text-align: right;\n",
              "    }\n",
              "</style>\n",
              "<table border=\"1\" class=\"dataframe\">\n",
              "  <thead>\n",
              "    <tr style=\"text-align: right;\">\n",
              "      <th></th>\n",
              "      <th>bw_method</th>\n",
              "      <th>decimation</th>\n",
              "      <th>distance</th>\n",
              "      <th>window</th>\n",
              "      <th>prominence</th>\n",
              "      <th>total</th>\n",
              "      <th>4</th>\n",
              "      <th>16</th>\n",
              "      <th>64</th>\n",
              "      <th>256</th>\n",
              "      <th>1024</th>\n",
              "    </tr>\n",
              "  </thead>\n",
              "  <tbody>\n",
              "    <tr>\n",
              "      <th>340</th>\n",
              "      <td>0.05</td>\n",
              "      <td>32.0</td>\n",
              "      <td>24.0</td>\n",
              "      <td>16.0</td>\n",
              "      <td>(0.03, 1.1)</td>\n",
              "      <td>0.705</td>\n",
              "      <td>1.0</td>\n",
              "      <td>0.872</td>\n",
              "      <td>0.692</td>\n",
              "      <td>0.551</td>\n",
              "      <td>0.410</td>\n",
              "    </tr>\n",
              "    <tr>\n",
              "      <th>341</th>\n",
              "      <td>0.05</td>\n",
              "      <td>32.0</td>\n",
              "      <td>32.0</td>\n",
              "      <td>16.0</td>\n",
              "      <td>(0.03, 1.1)</td>\n",
              "      <td>0.705</td>\n",
              "      <td>1.0</td>\n",
              "      <td>0.872</td>\n",
              "      <td>0.692</td>\n",
              "      <td>0.551</td>\n",
              "      <td>0.410</td>\n",
              "    </tr>\n",
              "    <tr>\n",
              "      <th>293</th>\n",
              "      <td>0.01</td>\n",
              "      <td>24.0</td>\n",
              "      <td>32.0</td>\n",
              "      <td>12.0</td>\n",
              "      <td>(0.08, 1.1)</td>\n",
              "      <td>0.708</td>\n",
              "      <td>1.0</td>\n",
              "      <td>0.872</td>\n",
              "      <td>0.692</td>\n",
              "      <td>0.564</td>\n",
              "      <td>0.410</td>\n",
              "    </tr>\n",
              "    <tr>\n",
              "      <th>292</th>\n",
              "      <td>0.01</td>\n",
              "      <td>24.0</td>\n",
              "      <td>24.0</td>\n",
              "      <td>12.0</td>\n",
              "      <td>(0.08, 1.1)</td>\n",
              "      <td>0.708</td>\n",
              "      <td>1.0</td>\n",
              "      <td>0.872</td>\n",
              "      <td>0.692</td>\n",
              "      <td>0.564</td>\n",
              "      <td>0.410</td>\n",
              "    </tr>\n",
              "    <tr>\n",
              "      <th>440</th>\n",
              "      <td>0.01</td>\n",
              "      <td>32.0</td>\n",
              "      <td>32.0</td>\n",
              "      <td>20.0</td>\n",
              "      <td>(0.03, 1.1)</td>\n",
              "      <td>0.703</td>\n",
              "      <td>1.0</td>\n",
              "      <td>0.872</td>\n",
              "      <td>0.692</td>\n",
              "      <td>0.526</td>\n",
              "      <td>0.423</td>\n",
              "    </tr>\n",
              "  </tbody>\n",
              "</table>\n",
              "</div>"
            ],
            "text/plain": [
              "     bw_method  decimation  distance  window  ...     16     64    256   1024\n",
              "340       0.05        32.0      24.0    16.0  ...  0.872  0.692  0.551  0.410\n",
              "341       0.05        32.0      32.0    16.0  ...  0.872  0.692  0.551  0.410\n",
              "293       0.01        24.0      32.0    12.0  ...  0.872  0.692  0.564  0.410\n",
              "292       0.01        24.0      24.0    12.0  ...  0.872  0.692  0.564  0.410\n",
              "440       0.01        32.0      32.0    20.0  ...  0.872  0.692  0.526  0.423\n",
              "\n",
              "[5 rows x 11 columns]"
            ]
          },
          "metadata": {
            "tags": []
          },
          "execution_count": 43
        }
      ]
    },
    {
      "cell_type": "markdown",
      "metadata": {
        "id": "MUqv4df5OPug"
      },
      "source": [
        "Оптимальные параметры для QAM16:"
      ]
    },
    {
      "cell_type": "code",
      "metadata": {
        "colab": {
          "base_uri": "https://localhost:8080/",
          "height": 241
        },
        "id": "V7HrJK7iMRQk",
        "outputId": "03561d7e-6195-4de5-a351-2f11bc8fb04d"
      },
      "source": [
        "opt_par_df.sort_values('16', ascending=False)[opt_par_df.total > 0.7].head(5)"
      ],
      "execution_count": null,
      "outputs": [
        {
          "output_type": "stream",
          "text": [
            "/usr/local/lib/python3.7/dist-packages/ipykernel_launcher.py:1: UserWarning: Boolean Series key will be reindexed to match DataFrame index.\n",
            "  \"\"\"Entry point for launching an IPython kernel.\n"
          ],
          "name": "stderr"
        },
        {
          "output_type": "execute_result",
          "data": {
            "text/html": [
              "<div>\n",
              "<style scoped>\n",
              "    .dataframe tbody tr th:only-of-type {\n",
              "        vertical-align: middle;\n",
              "    }\n",
              "\n",
              "    .dataframe tbody tr th {\n",
              "        vertical-align: top;\n",
              "    }\n",
              "\n",
              "    .dataframe thead th {\n",
              "        text-align: right;\n",
              "    }\n",
              "</style>\n",
              "<table border=\"1\" class=\"dataframe\">\n",
              "  <thead>\n",
              "    <tr style=\"text-align: right;\">\n",
              "      <th></th>\n",
              "      <th>bw_method</th>\n",
              "      <th>decimation</th>\n",
              "      <th>distance</th>\n",
              "      <th>window</th>\n",
              "      <th>prominence</th>\n",
              "      <th>total</th>\n",
              "      <th>4</th>\n",
              "      <th>16</th>\n",
              "      <th>64</th>\n",
              "      <th>256</th>\n",
              "      <th>1024</th>\n",
              "    </tr>\n",
              "  </thead>\n",
              "  <tbody>\n",
              "    <tr>\n",
              "      <th>23</th>\n",
              "      <td>0.08</td>\n",
              "      <td>24.0</td>\n",
              "      <td>32.0</td>\n",
              "      <td>4.0</td>\n",
              "      <td>(0.03, 1.1)</td>\n",
              "      <td>0.713</td>\n",
              "      <td>0.897</td>\n",
              "      <td>0.936</td>\n",
              "      <td>0.756</td>\n",
              "      <td>0.590</td>\n",
              "      <td>0.385</td>\n",
              "    </tr>\n",
              "    <tr>\n",
              "      <th>25</th>\n",
              "      <td>0.08</td>\n",
              "      <td>32.0</td>\n",
              "      <td>24.0</td>\n",
              "      <td>4.0</td>\n",
              "      <td>(0.03, 1.1)</td>\n",
              "      <td>0.721</td>\n",
              "      <td>0.936</td>\n",
              "      <td>0.936</td>\n",
              "      <td>0.756</td>\n",
              "      <td>0.590</td>\n",
              "      <td>0.385</td>\n",
              "    </tr>\n",
              "    <tr>\n",
              "      <th>235</th>\n",
              "      <td>0.08</td>\n",
              "      <td>12.0</td>\n",
              "      <td>24.0</td>\n",
              "      <td>12.0</td>\n",
              "      <td>(0.03, 1.1)</td>\n",
              "      <td>0.718</td>\n",
              "      <td>0.936</td>\n",
              "      <td>0.936</td>\n",
              "      <td>0.756</td>\n",
              "      <td>0.590</td>\n",
              "      <td>0.372</td>\n",
              "    </tr>\n",
              "    <tr>\n",
              "      <th>236</th>\n",
              "      <td>0.08</td>\n",
              "      <td>12.0</td>\n",
              "      <td>32.0</td>\n",
              "      <td>12.0</td>\n",
              "      <td>(0.03, 1.1)</td>\n",
              "      <td>0.718</td>\n",
              "      <td>0.936</td>\n",
              "      <td>0.936</td>\n",
              "      <td>0.756</td>\n",
              "      <td>0.590</td>\n",
              "      <td>0.372</td>\n",
              "    </tr>\n",
              "    <tr>\n",
              "      <th>263</th>\n",
              "      <td>0.05</td>\n",
              "      <td>12.0</td>\n",
              "      <td>32.0</td>\n",
              "      <td>12.0</td>\n",
              "      <td>(0.05, 1.1)</td>\n",
              "      <td>0.733</td>\n",
              "      <td>0.885</td>\n",
              "      <td>0.936</td>\n",
              "      <td>0.808</td>\n",
              "      <td>0.615</td>\n",
              "      <td>0.423</td>\n",
              "    </tr>\n",
              "  </tbody>\n",
              "</table>\n",
              "</div>"
            ],
            "text/plain": [
              "     bw_method  decimation  distance  window  ...     16     64    256   1024\n",
              "23        0.08        24.0      32.0     4.0  ...  0.936  0.756  0.590  0.385\n",
              "25        0.08        32.0      24.0     4.0  ...  0.936  0.756  0.590  0.385\n",
              "235       0.08        12.0      24.0    12.0  ...  0.936  0.756  0.590  0.372\n",
              "236       0.08        12.0      32.0    12.0  ...  0.936  0.756  0.590  0.372\n",
              "263       0.05        12.0      32.0    12.0  ...  0.936  0.808  0.615  0.423\n",
              "\n",
              "[5 rows x 11 columns]"
            ]
          },
          "metadata": {
            "tags": []
          },
          "execution_count": 44
        }
      ]
    },
    {
      "cell_type": "markdown",
      "metadata": {
        "id": "Dz5YagXPORcL"
      },
      "source": [
        "Оптимальные параметры для QAM64:"
      ]
    },
    {
      "cell_type": "code",
      "metadata": {
        "colab": {
          "base_uri": "https://localhost:8080/",
          "height": 241
        },
        "id": "ATaQ-KL2MoCL",
        "outputId": "645c7def-82f0-47a2-d098-451fbfcd09b2"
      },
      "source": [
        "opt_par_df.sort_values('64', ascending=False)[opt_par_df.total > 0.7].head(5)"
      ],
      "execution_count": null,
      "outputs": [
        {
          "output_type": "stream",
          "text": [
            "/usr/local/lib/python3.7/dist-packages/ipykernel_launcher.py:1: UserWarning: Boolean Series key will be reindexed to match DataFrame index.\n",
            "  \"\"\"Entry point for launching an IPython kernel.\n"
          ],
          "name": "stderr"
        },
        {
          "output_type": "execute_result",
          "data": {
            "text/html": [
              "<div>\n",
              "<style scoped>\n",
              "    .dataframe tbody tr th:only-of-type {\n",
              "        vertical-align: middle;\n",
              "    }\n",
              "\n",
              "    .dataframe tbody tr th {\n",
              "        vertical-align: top;\n",
              "    }\n",
              "\n",
              "    .dataframe thead th {\n",
              "        text-align: right;\n",
              "    }\n",
              "</style>\n",
              "<table border=\"1\" class=\"dataframe\">\n",
              "  <thead>\n",
              "    <tr style=\"text-align: right;\">\n",
              "      <th></th>\n",
              "      <th>bw_method</th>\n",
              "      <th>decimation</th>\n",
              "      <th>distance</th>\n",
              "      <th>window</th>\n",
              "      <th>prominence</th>\n",
              "      <th>total</th>\n",
              "      <th>4</th>\n",
              "      <th>16</th>\n",
              "      <th>64</th>\n",
              "      <th>256</th>\n",
              "      <th>1024</th>\n",
              "    </tr>\n",
              "  </thead>\n",
              "  <tbody>\n",
              "    <tr>\n",
              "      <th>14</th>\n",
              "      <td>0.05</td>\n",
              "      <td>24.0</td>\n",
              "      <td>32.0</td>\n",
              "      <td>4.0</td>\n",
              "      <td>(0.03, 1.1)</td>\n",
              "      <td>0.728</td>\n",
              "      <td>0.731</td>\n",
              "      <td>0.795</td>\n",
              "      <td>0.910</td>\n",
              "      <td>0.782</td>\n",
              "      <td>0.423</td>\n",
              "    </tr>\n",
              "    <tr>\n",
              "      <th>118</th>\n",
              "      <td>0.05</td>\n",
              "      <td>12.0</td>\n",
              "      <td>24.0</td>\n",
              "      <td>8.0</td>\n",
              "      <td>(0.03, 1.1)</td>\n",
              "      <td>0.731</td>\n",
              "      <td>0.744</td>\n",
              "      <td>0.795</td>\n",
              "      <td>0.910</td>\n",
              "      <td>0.782</td>\n",
              "      <td>0.423</td>\n",
              "    </tr>\n",
              "    <tr>\n",
              "      <th>119</th>\n",
              "      <td>0.05</td>\n",
              "      <td>12.0</td>\n",
              "      <td>32.0</td>\n",
              "      <td>8.0</td>\n",
              "      <td>(0.03, 1.1)</td>\n",
              "      <td>0.728</td>\n",
              "      <td>0.731</td>\n",
              "      <td>0.795</td>\n",
              "      <td>0.910</td>\n",
              "      <td>0.782</td>\n",
              "      <td>0.423</td>\n",
              "    </tr>\n",
              "    <tr>\n",
              "      <th>13</th>\n",
              "      <td>0.05</td>\n",
              "      <td>24.0</td>\n",
              "      <td>24.0</td>\n",
              "      <td>4.0</td>\n",
              "      <td>(0.03, 1.1)</td>\n",
              "      <td>0.733</td>\n",
              "      <td>0.756</td>\n",
              "      <td>0.795</td>\n",
              "      <td>0.910</td>\n",
              "      <td>0.782</td>\n",
              "      <td>0.423</td>\n",
              "    </tr>\n",
              "    <tr>\n",
              "      <th>47</th>\n",
              "      <td>0.05</td>\n",
              "      <td>12.0</td>\n",
              "      <td>32.0</td>\n",
              "      <td>4.0</td>\n",
              "      <td>(0.05, 1.1)</td>\n",
              "      <td>0.718</td>\n",
              "      <td>0.731</td>\n",
              "      <td>0.846</td>\n",
              "      <td>0.897</td>\n",
              "      <td>0.692</td>\n",
              "      <td>0.423</td>\n",
              "    </tr>\n",
              "  </tbody>\n",
              "</table>\n",
              "</div>"
            ],
            "text/plain": [
              "     bw_method  decimation  distance  window  ...     16     64    256   1024\n",
              "14        0.05        24.0      32.0     4.0  ...  0.795  0.910  0.782  0.423\n",
              "118       0.05        12.0      24.0     8.0  ...  0.795  0.910  0.782  0.423\n",
              "119       0.05        12.0      32.0     8.0  ...  0.795  0.910  0.782  0.423\n",
              "13        0.05        24.0      24.0     4.0  ...  0.795  0.910  0.782  0.423\n",
              "47        0.05        12.0      32.0     4.0  ...  0.846  0.897  0.692  0.423\n",
              "\n",
              "[5 rows x 11 columns]"
            ]
          },
          "metadata": {
            "tags": []
          },
          "execution_count": 45
        }
      ]
    },
    {
      "cell_type": "markdown",
      "metadata": {
        "id": "I0A2ZscrOTQw"
      },
      "source": [
        "Оптимальные параметры для QAM256:"
      ]
    },
    {
      "cell_type": "code",
      "metadata": {
        "colab": {
          "base_uri": "https://localhost:8080/",
          "height": 241
        },
        "id": "rDz6SS50NcKz",
        "outputId": "3ef6533d-55eb-4d0a-9aa6-edb146e7997d"
      },
      "source": [
        "opt_par_df.sort_values('256', ascending=False)[opt_par_df.total > 0.7].head(5)"
      ],
      "execution_count": null,
      "outputs": [
        {
          "output_type": "stream",
          "text": [
            "/usr/local/lib/python3.7/dist-packages/ipykernel_launcher.py:1: UserWarning: Boolean Series key will be reindexed to match DataFrame index.\n",
            "  \"\"\"Entry point for launching an IPython kernel.\n"
          ],
          "name": "stderr"
        },
        {
          "output_type": "execute_result",
          "data": {
            "text/html": [
              "<div>\n",
              "<style scoped>\n",
              "    .dataframe tbody tr th:only-of-type {\n",
              "        vertical-align: middle;\n",
              "    }\n",
              "\n",
              "    .dataframe tbody tr th {\n",
              "        vertical-align: top;\n",
              "    }\n",
              "\n",
              "    .dataframe thead th {\n",
              "        text-align: right;\n",
              "    }\n",
              "</style>\n",
              "<table border=\"1\" class=\"dataframe\">\n",
              "  <thead>\n",
              "    <tr style=\"text-align: right;\">\n",
              "      <th></th>\n",
              "      <th>bw_method</th>\n",
              "      <th>decimation</th>\n",
              "      <th>distance</th>\n",
              "      <th>window</th>\n",
              "      <th>prominence</th>\n",
              "      <th>total</th>\n",
              "      <th>4</th>\n",
              "      <th>16</th>\n",
              "      <th>64</th>\n",
              "      <th>256</th>\n",
              "      <th>1024</th>\n",
              "    </tr>\n",
              "  </thead>\n",
              "  <tbody>\n",
              "    <tr>\n",
              "      <th>43</th>\n",
              "      <td>0.01</td>\n",
              "      <td>32.0</td>\n",
              "      <td>24.0</td>\n",
              "      <td>4.0</td>\n",
              "      <td>(0.05, 1.1)</td>\n",
              "      <td>0.721</td>\n",
              "      <td>0.692</td>\n",
              "      <td>0.731</td>\n",
              "      <td>0.744</td>\n",
              "      <td>0.897</td>\n",
              "      <td>0.538</td>\n",
              "    </tr>\n",
              "    <tr>\n",
              "      <th>76</th>\n",
              "      <td>0.01</td>\n",
              "      <td>24.0</td>\n",
              "      <td>24.0</td>\n",
              "      <td>4.0</td>\n",
              "      <td>(0.08, 1.1)</td>\n",
              "      <td>0.731</td>\n",
              "      <td>0.744</td>\n",
              "      <td>0.744</td>\n",
              "      <td>0.795</td>\n",
              "      <td>0.885</td>\n",
              "      <td>0.487</td>\n",
              "    </tr>\n",
              "    <tr>\n",
              "      <th>112</th>\n",
              "      <td>0.01</td>\n",
              "      <td>24.0</td>\n",
              "      <td>24.0</td>\n",
              "      <td>8.0</td>\n",
              "      <td>(0.03, 1.1)</td>\n",
              "      <td>0.728</td>\n",
              "      <td>0.782</td>\n",
              "      <td>0.731</td>\n",
              "      <td>0.769</td>\n",
              "      <td>0.885</td>\n",
              "      <td>0.474</td>\n",
              "    </tr>\n",
              "    <tr>\n",
              "      <th>254</th>\n",
              "      <td>0.01</td>\n",
              "      <td>12.0</td>\n",
              "      <td>32.0</td>\n",
              "      <td>12.0</td>\n",
              "      <td>(0.05, 1.1)</td>\n",
              "      <td>0.731</td>\n",
              "      <td>0.769</td>\n",
              "      <td>0.744</td>\n",
              "      <td>0.769</td>\n",
              "      <td>0.872</td>\n",
              "      <td>0.500</td>\n",
              "    </tr>\n",
              "    <tr>\n",
              "      <th>182</th>\n",
              "      <td>0.01</td>\n",
              "      <td>12.0</td>\n",
              "      <td>32.0</td>\n",
              "      <td>8.0</td>\n",
              "      <td>(0.08, 1.1)</td>\n",
              "      <td>0.731</td>\n",
              "      <td>0.718</td>\n",
              "      <td>0.731</td>\n",
              "      <td>0.756</td>\n",
              "      <td>0.872</td>\n",
              "      <td>0.577</td>\n",
              "    </tr>\n",
              "  </tbody>\n",
              "</table>\n",
              "</div>"
            ],
            "text/plain": [
              "     bw_method  decimation  distance  window  ...     16     64    256   1024\n",
              "43        0.01        32.0      24.0     4.0  ...  0.731  0.744  0.897  0.538\n",
              "76        0.01        24.0      24.0     4.0  ...  0.744  0.795  0.885  0.487\n",
              "112       0.01        24.0      24.0     8.0  ...  0.731  0.769  0.885  0.474\n",
              "254       0.01        12.0      32.0    12.0  ...  0.744  0.769  0.872  0.500\n",
              "182       0.01        12.0      32.0     8.0  ...  0.731  0.756  0.872  0.577\n",
              "\n",
              "[5 rows x 11 columns]"
            ]
          },
          "metadata": {
            "tags": []
          },
          "execution_count": 46
        }
      ]
    },
    {
      "cell_type": "markdown",
      "metadata": {
        "id": "HgXfu0HwOVH0"
      },
      "source": [
        "Оптимальные параметры для QAM1024:"
      ]
    },
    {
      "cell_type": "code",
      "metadata": {
        "colab": {
          "base_uri": "https://localhost:8080/",
          "height": 241
        },
        "id": "flmLEDbJNeBO",
        "outputId": "65dc9bbd-4deb-4a6c-bde8-9d945c22021f"
      },
      "source": [
        "opt_par_df.sort_values('1024', ascending=False)[opt_par_df.total > 0.7].head(5)"
      ],
      "execution_count": null,
      "outputs": [
        {
          "output_type": "stream",
          "text": [
            "/usr/local/lib/python3.7/dist-packages/ipykernel_launcher.py:1: UserWarning: Boolean Series key will be reindexed to match DataFrame index.\n",
            "  \"\"\"Entry point for launching an IPython kernel.\n"
          ],
          "name": "stderr"
        },
        {
          "output_type": "execute_result",
          "data": {
            "text/html": [
              "<div>\n",
              "<style scoped>\n",
              "    .dataframe tbody tr th:only-of-type {\n",
              "        vertical-align: middle;\n",
              "    }\n",
              "\n",
              "    .dataframe tbody tr th {\n",
              "        vertical-align: top;\n",
              "    }\n",
              "\n",
              "    .dataframe thead th {\n",
              "        text-align: right;\n",
              "    }\n",
              "</style>\n",
              "<table border=\"1\" class=\"dataframe\">\n",
              "  <thead>\n",
              "    <tr style=\"text-align: right;\">\n",
              "      <th></th>\n",
              "      <th>bw_method</th>\n",
              "      <th>decimation</th>\n",
              "      <th>distance</th>\n",
              "      <th>window</th>\n",
              "      <th>prominence</th>\n",
              "      <th>total</th>\n",
              "      <th>4</th>\n",
              "      <th>16</th>\n",
              "      <th>64</th>\n",
              "      <th>256</th>\n",
              "      <th>1024</th>\n",
              "    </tr>\n",
              "  </thead>\n",
              "  <tbody>\n",
              "    <tr>\n",
              "      <th>8</th>\n",
              "      <td>0.01</td>\n",
              "      <td>32.0</td>\n",
              "      <td>32.0</td>\n",
              "      <td>4.0</td>\n",
              "      <td>(0.03, 1.1)</td>\n",
              "      <td>0.713</td>\n",
              "      <td>0.628</td>\n",
              "      <td>0.667</td>\n",
              "      <td>0.628</td>\n",
              "      <td>0.769</td>\n",
              "      <td>0.872</td>\n",
              "    </tr>\n",
              "    <tr>\n",
              "      <th>218</th>\n",
              "      <td>0.01</td>\n",
              "      <td>12.0</td>\n",
              "      <td>32.0</td>\n",
              "      <td>12.0</td>\n",
              "      <td>(0.03, 1.1)</td>\n",
              "      <td>0.723</td>\n",
              "      <td>0.654</td>\n",
              "      <td>0.705</td>\n",
              "      <td>0.679</td>\n",
              "      <td>0.846</td>\n",
              "      <td>0.731</td>\n",
              "    </tr>\n",
              "    <tr>\n",
              "      <th>77</th>\n",
              "      <td>0.01</td>\n",
              "      <td>24.0</td>\n",
              "      <td>32.0</td>\n",
              "      <td>4.0</td>\n",
              "      <td>(0.08, 1.1)</td>\n",
              "      <td>0.736</td>\n",
              "      <td>0.731</td>\n",
              "      <td>0.744</td>\n",
              "      <td>0.744</td>\n",
              "      <td>0.859</td>\n",
              "      <td>0.603</td>\n",
              "    </tr>\n",
              "    <tr>\n",
              "      <th>44</th>\n",
              "      <td>0.01</td>\n",
              "      <td>32.0</td>\n",
              "      <td>32.0</td>\n",
              "      <td>4.0</td>\n",
              "      <td>(0.05, 1.1)</td>\n",
              "      <td>0.718</td>\n",
              "      <td>0.667</td>\n",
              "      <td>0.731</td>\n",
              "      <td>0.731</td>\n",
              "      <td>0.859</td>\n",
              "      <td>0.603</td>\n",
              "    </tr>\n",
              "    <tr>\n",
              "      <th>182</th>\n",
              "      <td>0.01</td>\n",
              "      <td>12.0</td>\n",
              "      <td>32.0</td>\n",
              "      <td>8.0</td>\n",
              "      <td>(0.08, 1.1)</td>\n",
              "      <td>0.731</td>\n",
              "      <td>0.718</td>\n",
              "      <td>0.731</td>\n",
              "      <td>0.756</td>\n",
              "      <td>0.872</td>\n",
              "      <td>0.577</td>\n",
              "    </tr>\n",
              "  </tbody>\n",
              "</table>\n",
              "</div>"
            ],
            "text/plain": [
              "     bw_method  decimation  distance  window  ...     16     64    256   1024\n",
              "8         0.01        32.0      32.0     4.0  ...  0.667  0.628  0.769  0.872\n",
              "218       0.01        12.0      32.0    12.0  ...  0.705  0.679  0.846  0.731\n",
              "77        0.01        24.0      32.0     4.0  ...  0.744  0.744  0.859  0.603\n",
              "44        0.01        32.0      32.0     4.0  ...  0.731  0.731  0.859  0.603\n",
              "182       0.01        12.0      32.0     8.0  ...  0.731  0.756  0.872  0.577\n",
              "\n",
              "[5 rows x 11 columns]"
            ]
          },
          "metadata": {
            "tags": []
          },
          "execution_count": 50
        }
      ]
    },
    {
      "cell_type": "markdown",
      "metadata": {
        "id": "iPD4ZRFkZL03"
      },
      "source": [
        "# Исследование модели с оптимальными параметрами"
      ]
    },
    {
      "cell_type": "code",
      "metadata": {
        "colab": {
          "base_uri": "https://localhost:8080/",
          "height": 461
        },
        "id": "S3qTUAxvNg-N",
        "outputId": "4e36c1b0-491f-4194-9e3c-4aef1097ff78"
      },
      "source": [
        "# Создание модели с оптимальными параметрами\n",
        "Analyzer = QAMDA(bw_method=0.01,\n",
        "                 decimation=32,\n",
        "                 distance=32,\n",
        "                 window=8,\n",
        "                 prominence=(0.03, 1.1)\n",
        "                )\n",
        "# Получение анализа\n",
        "result = Analyzer.analyze(np.array(QAM_test))\n",
        "# Сравнение результатов\n",
        "test_df['Answers'] = np.array(result)\n",
        "test_df['Result'] = (test_df.Answers == test_df.M)\n",
        "test_df"
      ],
      "execution_count": null,
      "outputs": [
        {
          "output_type": "stream",
          "text": [
            "/usr/local/lib/python3.7/dist-packages/ipykernel_launcher.py:48: VisibleDeprecationWarning: Creating an ndarray from ragged nested sequences (which is a list-or-tuple of lists-or-tuples-or ndarrays with different lengths or shapes) is deprecated. If you meant to do this, you must specify 'dtype=object' when creating the ndarray\n"
          ],
          "name": "stderr"
        },
        {
          "output_type": "execute_result",
          "data": {
            "text/html": [
              "<div>\n",
              "<style scoped>\n",
              "    .dataframe tbody tr th:only-of-type {\n",
              "        vertical-align: middle;\n",
              "    }\n",
              "\n",
              "    .dataframe tbody tr th {\n",
              "        vertical-align: top;\n",
              "    }\n",
              "\n",
              "    .dataframe thead th {\n",
              "        text-align: right;\n",
              "    }\n",
              "</style>\n",
              "<table border=\"1\" class=\"dataframe\">\n",
              "  <thead>\n",
              "    <tr style=\"text-align: right;\">\n",
              "      <th></th>\n",
              "      <th>M</th>\n",
              "      <th>SNR</th>\n",
              "      <th>Answers</th>\n",
              "      <th>Result</th>\n",
              "    </tr>\n",
              "  </thead>\n",
              "  <tbody>\n",
              "    <tr>\n",
              "      <th>1</th>\n",
              "      <td>4</td>\n",
              "      <td>50</td>\n",
              "      <td>4</td>\n",
              "      <td>True</td>\n",
              "    </tr>\n",
              "    <tr>\n",
              "      <th>2</th>\n",
              "      <td>4</td>\n",
              "      <td>50</td>\n",
              "      <td>4</td>\n",
              "      <td>True</td>\n",
              "    </tr>\n",
              "    <tr>\n",
              "      <th>3</th>\n",
              "      <td>4</td>\n",
              "      <td>50</td>\n",
              "      <td>4</td>\n",
              "      <td>True</td>\n",
              "    </tr>\n",
              "    <tr>\n",
              "      <th>94</th>\n",
              "      <td>4</td>\n",
              "      <td>48</td>\n",
              "      <td>4</td>\n",
              "      <td>True</td>\n",
              "    </tr>\n",
              "    <tr>\n",
              "      <th>95</th>\n",
              "      <td>4</td>\n",
              "      <td>48</td>\n",
              "      <td>4</td>\n",
              "      <td>True</td>\n",
              "    </tr>\n",
              "    <tr>\n",
              "      <th>...</th>\n",
              "      <td>...</td>\n",
              "      <td>...</td>\n",
              "      <td>...</td>\n",
              "      <td>...</td>\n",
              "    </tr>\n",
              "    <tr>\n",
              "      <th>11906</th>\n",
              "      <td>1024</td>\n",
              "      <td>2</td>\n",
              "      <td>64</td>\n",
              "      <td>False</td>\n",
              "    </tr>\n",
              "    <tr>\n",
              "      <th>11907</th>\n",
              "      <td>1024</td>\n",
              "      <td>2</td>\n",
              "      <td>16</td>\n",
              "      <td>False</td>\n",
              "    </tr>\n",
              "    <tr>\n",
              "      <th>11998</th>\n",
              "      <td>1024</td>\n",
              "      <td>0</td>\n",
              "      <td>4</td>\n",
              "      <td>False</td>\n",
              "    </tr>\n",
              "    <tr>\n",
              "      <th>11999</th>\n",
              "      <td>1024</td>\n",
              "      <td>0</td>\n",
              "      <td>16</td>\n",
              "      <td>False</td>\n",
              "    </tr>\n",
              "    <tr>\n",
              "      <th>12000</th>\n",
              "      <td>1024</td>\n",
              "      <td>0</td>\n",
              "      <td>16</td>\n",
              "      <td>False</td>\n",
              "    </tr>\n",
              "  </tbody>\n",
              "</table>\n",
              "<p>390 rows × 4 columns</p>\n",
              "</div>"
            ],
            "text/plain": [
              "          M  SNR  Answers  Result\n",
              "1         4   50        4    True\n",
              "2         4   50        4    True\n",
              "3         4   50        4    True\n",
              "94        4   48        4    True\n",
              "95        4   48        4    True\n",
              "...     ...  ...      ...     ...\n",
              "11906  1024    2       64   False\n",
              "11907  1024    2       16   False\n",
              "11998  1024    0        4   False\n",
              "11999  1024    0       16   False\n",
              "12000  1024    0       16   False\n",
              "\n",
              "[390 rows x 4 columns]"
            ]
          },
          "metadata": {
            "tags": []
          },
          "execution_count": 71
        }
      ]
    },
    {
      "cell_type": "code",
      "metadata": {
        "colab": {
          "base_uri": "https://localhost:8080/",
          "height": 606
        },
        "id": "vBIZWUkQZKzp",
        "outputId": "ec0e916e-fc55-44d6-8777-7e6a9a868ddc"
      },
      "source": [
        "df3 = test_df.drop(['Answers'], axis=1)\n",
        "df3.SNR[(df.SNR >= 0) & (df.SNR < 15)] = '[0, 15)'\n",
        "df3.SNR[(df.SNR >= 15) & (df.SNR < 30)] = '[15, 30)'\n",
        "df3.SNR[(df.SNR >= 30) & (df.SNR <= 50)] = '[30, 50)'\n",
        "df3.groupby(by=['M', 'SNR'], as_index=False).mean()"
      ],
      "execution_count": null,
      "outputs": [
        {
          "output_type": "stream",
          "text": [
            "/usr/local/lib/python3.7/dist-packages/ipykernel_launcher.py:2: SettingWithCopyWarning: \n",
            "A value is trying to be set on a copy of a slice from a DataFrame\n",
            "\n",
            "See the caveats in the documentation: https://pandas.pydata.org/pandas-docs/stable/user_guide/indexing.html#returning-a-view-versus-a-copy\n",
            "  \n"
          ],
          "name": "stderr"
        },
        {
          "output_type": "execute_result",
          "data": {
            "text/html": [
              "<div>\n",
              "<style scoped>\n",
              "    .dataframe tbody tr th:only-of-type {\n",
              "        vertical-align: middle;\n",
              "    }\n",
              "\n",
              "    .dataframe tbody tr th {\n",
              "        vertical-align: top;\n",
              "    }\n",
              "\n",
              "    .dataframe thead th {\n",
              "        text-align: right;\n",
              "    }\n",
              "</style>\n",
              "<table border=\"1\" class=\"dataframe\">\n",
              "  <thead>\n",
              "    <tr style=\"text-align: right;\">\n",
              "      <th></th>\n",
              "      <th>M</th>\n",
              "      <th>SNR</th>\n",
              "      <th>Result</th>\n",
              "    </tr>\n",
              "  </thead>\n",
              "  <tbody>\n",
              "    <tr>\n",
              "      <th>0</th>\n",
              "      <td>4</td>\n",
              "      <td>[0, 15)</td>\n",
              "      <td>0.500000</td>\n",
              "    </tr>\n",
              "    <tr>\n",
              "      <th>1</th>\n",
              "      <td>4</td>\n",
              "      <td>[15, 30)</td>\n",
              "      <td>1.000000</td>\n",
              "    </tr>\n",
              "    <tr>\n",
              "      <th>2</th>\n",
              "      <td>4</td>\n",
              "      <td>[30, 50)</td>\n",
              "      <td>1.000000</td>\n",
              "    </tr>\n",
              "    <tr>\n",
              "      <th>3</th>\n",
              "      <td>16</td>\n",
              "      <td>[0, 15)</td>\n",
              "      <td>0.375000</td>\n",
              "    </tr>\n",
              "    <tr>\n",
              "      <th>4</th>\n",
              "      <td>16</td>\n",
              "      <td>[15, 30)</td>\n",
              "      <td>1.000000</td>\n",
              "    </tr>\n",
              "    <tr>\n",
              "      <th>5</th>\n",
              "      <td>16</td>\n",
              "      <td>[30, 50)</td>\n",
              "      <td>1.000000</td>\n",
              "    </tr>\n",
              "    <tr>\n",
              "      <th>6</th>\n",
              "      <td>64</td>\n",
              "      <td>[0, 15)</td>\n",
              "      <td>0.583333</td>\n",
              "    </tr>\n",
              "    <tr>\n",
              "      <th>7</th>\n",
              "      <td>64</td>\n",
              "      <td>[15, 30)</td>\n",
              "      <td>1.000000</td>\n",
              "    </tr>\n",
              "    <tr>\n",
              "      <th>8</th>\n",
              "      <td>64</td>\n",
              "      <td>[30, 50)</td>\n",
              "      <td>1.000000</td>\n",
              "    </tr>\n",
              "    <tr>\n",
              "      <th>9</th>\n",
              "      <td>256</td>\n",
              "      <td>[0, 15)</td>\n",
              "      <td>0.416667</td>\n",
              "    </tr>\n",
              "    <tr>\n",
              "      <th>10</th>\n",
              "      <td>256</td>\n",
              "      <td>[15, 30)</td>\n",
              "      <td>1.000000</td>\n",
              "    </tr>\n",
              "    <tr>\n",
              "      <th>11</th>\n",
              "      <td>256</td>\n",
              "      <td>[30, 50)</td>\n",
              "      <td>1.000000</td>\n",
              "    </tr>\n",
              "    <tr>\n",
              "      <th>12</th>\n",
              "      <td>1024</td>\n",
              "      <td>[0, 15)</td>\n",
              "      <td>0.000000</td>\n",
              "    </tr>\n",
              "    <tr>\n",
              "      <th>13</th>\n",
              "      <td>1024</td>\n",
              "      <td>[15, 30)</td>\n",
              "      <td>0.238095</td>\n",
              "    </tr>\n",
              "    <tr>\n",
              "      <th>14</th>\n",
              "      <td>1024</td>\n",
              "      <td>[30, 50)</td>\n",
              "      <td>1.000000</td>\n",
              "    </tr>\n",
              "  </tbody>\n",
              "</table>\n",
              "</div>"
            ],
            "text/plain": [
              "       M       SNR    Result\n",
              "0      4   [0, 15)  0.500000\n",
              "1      4  [15, 30)  1.000000\n",
              "2      4  [30, 50)  1.000000\n",
              "3     16   [0, 15)  0.375000\n",
              "4     16  [15, 30)  1.000000\n",
              "5     16  [30, 50)  1.000000\n",
              "6     64   [0, 15)  0.583333\n",
              "7     64  [15, 30)  1.000000\n",
              "8     64  [30, 50)  1.000000\n",
              "9    256   [0, 15)  0.416667\n",
              "10   256  [15, 30)  1.000000\n",
              "11   256  [30, 50)  1.000000\n",
              "12  1024   [0, 15)  0.000000\n",
              "13  1024  [15, 30)  0.238095\n",
              "14  1024  [30, 50)  1.000000"
            ]
          },
          "metadata": {
            "tags": []
          },
          "execution_count": 73
        }
      ]
    },
    {
      "cell_type": "code",
      "metadata": {
        "colab": {
          "base_uri": "https://localhost:8080/",
          "height": 206
        },
        "id": "dKWY6UzoZrrP",
        "outputId": "28f3b7fa-54e4-4ed0-e01a-a9bb2474a940"
      },
      "source": [
        "test_df.drop(['SNR', 'Answers'], axis=1)\\\n",
        ".groupby(by=['M'], as_index=False).mean()"
      ],
      "execution_count": null,
      "outputs": [
        {
          "output_type": "execute_result",
          "data": {
            "text/html": [
              "<div>\n",
              "<style scoped>\n",
              "    .dataframe tbody tr th:only-of-type {\n",
              "        vertical-align: middle;\n",
              "    }\n",
              "\n",
              "    .dataframe tbody tr th {\n",
              "        vertical-align: top;\n",
              "    }\n",
              "\n",
              "    .dataframe thead th {\n",
              "        text-align: right;\n",
              "    }\n",
              "</style>\n",
              "<table border=\"1\" class=\"dataframe\">\n",
              "  <thead>\n",
              "    <tr style=\"text-align: right;\">\n",
              "      <th></th>\n",
              "      <th>M</th>\n",
              "      <th>Result</th>\n",
              "    </tr>\n",
              "  </thead>\n",
              "  <tbody>\n",
              "    <tr>\n",
              "      <th>0</th>\n",
              "      <td>4</td>\n",
              "      <td>0.846154</td>\n",
              "    </tr>\n",
              "    <tr>\n",
              "      <th>1</th>\n",
              "      <td>16</td>\n",
              "      <td>0.807692</td>\n",
              "    </tr>\n",
              "    <tr>\n",
              "      <th>2</th>\n",
              "      <td>64</td>\n",
              "      <td>0.871795</td>\n",
              "    </tr>\n",
              "    <tr>\n",
              "      <th>3</th>\n",
              "      <td>256</td>\n",
              "      <td>0.820513</td>\n",
              "    </tr>\n",
              "    <tr>\n",
              "      <th>4</th>\n",
              "      <td>1024</td>\n",
              "      <td>0.487179</td>\n",
              "    </tr>\n",
              "  </tbody>\n",
              "</table>\n",
              "</div>"
            ],
            "text/plain": [
              "      M    Result\n",
              "0     4  0.846154\n",
              "1    16  0.807692\n",
              "2    64  0.871795\n",
              "3   256  0.820513\n",
              "4  1024  0.487179"
            ]
          },
          "metadata": {
            "tags": []
          },
          "execution_count": 75
        }
      ]
    },
    {
      "cell_type": "code",
      "metadata": {
        "colab": {
          "base_uri": "https://localhost:8080/",
          "height": 399
        },
        "id": "36YDDDTXZei2",
        "outputId": "3d546ca6-3552-40d2-94fa-40562fd365b9"
      },
      "source": [
        "df4 = test_df.drop(['Answers'], axis=1)\\\n",
        ".groupby(by=['M', 'SNR'], as_index=False).mean()\n",
        "plt.figure(figsize=(7,4), dpi=100)\n",
        "sns.lineplot(x='SNR', y='Result', data=df4, hue='M',\n",
        "             style='M', markers=True, dashes=False,\n",
        "             palette='deep')\n",
        "plt.xlabel('SNR, дБ')\n",
        "plt.ylabel('Точность')"
      ],
      "execution_count": null,
      "outputs": [
        {
          "output_type": "execute_result",
          "data": {
            "text/plain": [
              "Text(0, 0.5, 'Точность')"
            ]
          },
          "metadata": {
            "tags": []
          },
          "execution_count": 79
        },
        {
          "output_type": "display_data",
          "data": {
            "image/png": "[encoded data removed]",
            "text/plain": [
              "<Figure size 700x400 with 1 Axes>"
            ]
          },
          "metadata": {
            "tags": [],
            "needs_background": "light"
          }
        }
      ]
    },
    {
      "cell_type": "markdown",
      "metadata": {
        "id": "f4puajE7yIuQ"
      },
      "source": [
        "Подсчет времени работы модели для 1 одного QAM сигнала"
      ]
    },
    {
      "cell_type": "code",
      "metadata": {
        "id": "ZD9NH8tZaLo6",
        "colab": {
          "base_uri": "https://localhost:8080/"
        },
        "outputId": "89e86736-5bd9-4df3-e658-64c5f6ed3f8e"
      },
      "source": [
        "%%time\n",
        "Analyzer.analyze(np.array([QAM_test[1]]))"
      ],
      "execution_count": 37,
      "outputs": [
        {
          "output_type": "stream",
          "text": [
            "CPU times: user 68.2 ms, sys: 993 µs, total: 69.2 ms\n",
            "Wall time: 76.7 ms\n"
          ],
          "name": "stdout"
        },
        {
          "output_type": "stream",
          "text": [
            "/usr/local/lib/python3.7/dist-packages/ipykernel_launcher.py:48: VisibleDeprecationWarning: Creating an ndarray from ragged nested sequences (which is a list-or-tuple of lists-or-tuples-or ndarrays with different lengths or shapes) is deprecated. If you meant to do this, you must specify 'dtype=object' when creating the ndarray\n"
          ],
          "name": "stderr"
        },
        {
          "output_type": "execute_result",
          "data": {
            "text/plain": [
              "[4]"
            ]
          },
          "metadata": {
            "tags": []
          },
          "execution_count": 37
        }
      ]
    },
    {
      "cell_type": "code",
      "metadata": {
        "id": "7HKju2MDyf33"
      },
      "source": [
        ""
      ],
      "execution_count": null,
      "outputs": []
    }
  ]
}
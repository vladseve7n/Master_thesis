{
  "nbformat": 4,
  "nbformat_minor": 0,
  "metadata": {
    "colab": {
      "name": "For_testing something.ipynb",
      "provenance": [],
      "collapsed_sections": [],
      "authorship_tag": "ABX9TyOupyW7NfFPqAP/zAozz+tX"
    },
    "kernelspec": {
      "name": "python3",
      "display_name": "Python 3"
    },
    "language_info": {
      "name": "python"
    }
  },
  "cells": [
    {
      "cell_type": "code",
      "metadata": {
        "colab": {
          "base_uri": "https://localhost:8080/"
        },
        "id": "7hjA9CPugUDq",
        "outputId": "81bda9fd-c021-4705-8784-a7f3f9598266"
      },
      "source": [
        "! pip install ModulationPy"
      ],
      "execution_count": 2,
      "outputs": [
        {
          "output_type": "stream",
          "text": [
            "Collecting ModulationPy\n",
            "  Downloading ModulationPy-0.1.8-py3-none-any.whl (6.3 kB)\n",
            "Requirement already satisfied: matplotlib>=2.2.2 in /usr/local/lib/python3.7/dist-packages (from ModulationPy) (3.2.2)\n",
            "Requirement already satisfied: numpy>=1.7.1 in /usr/local/lib/python3.7/dist-packages (from ModulationPy) (1.19.5)\n",
            "Requirement already satisfied: kiwisolver>=1.0.1 in /usr/local/lib/python3.7/dist-packages (from matplotlib>=2.2.2->ModulationPy) (1.3.1)\n",
            "Requirement already satisfied: cycler>=0.10 in /usr/local/lib/python3.7/dist-packages (from matplotlib>=2.2.2->ModulationPy) (0.10.0)\n",
            "Requirement already satisfied: python-dateutil>=2.1 in /usr/local/lib/python3.7/dist-packages (from matplotlib>=2.2.2->ModulationPy) (2.8.1)\n",
            "Requirement already satisfied: pyparsing!=2.0.4,!=2.1.2,!=2.1.6,>=2.0.1 in /usr/local/lib/python3.7/dist-packages (from matplotlib>=2.2.2->ModulationPy) (2.4.7)\n",
            "Requirement already satisfied: six in /usr/local/lib/python3.7/dist-packages (from cycler>=0.10->matplotlib>=2.2.2->ModulationPy) (1.15.0)\n",
            "Installing collected packages: ModulationPy\n",
            "Successfully installed ModulationPy-0.1.8\n"
          ],
          "name": "stdout"
        }
      ]
    },
    {
      "cell_type": "code",
      "metadata": {
        "colab": {
          "base_uri": "https://localhost:8080/"
        },
        "id": "k0o5isx0gXil",
        "outputId": "797ef009-4267-4192-8566-61cd8b5db907"
      },
      "source": [
        "! pip install scikit-commpy"
      ],
      "execution_count": 3,
      "outputs": [
        {
          "output_type": "stream",
          "text": [
            "Collecting scikit-commpy\n",
            "  Downloading scikit-commpy-0.7.0.tar.gz (52 kB)\n",
            "\u001b[?25l\r\u001b[K     |██████▎                         | 10 kB 23.9 MB/s eta 0:00:01\r\u001b[K     |████████████▋                   | 20 kB 31.0 MB/s eta 0:00:01\r\u001b[K     |██████████████████▉             | 30 kB 14.7 MB/s eta 0:00:01\r\u001b[K     |█████████████████████████▏      | 40 kB 11.6 MB/s eta 0:00:01\r\u001b[K     |███████████████████████████████▍| 51 kB 5.3 MB/s eta 0:00:01\r\u001b[K     |████████████████████████████████| 52 kB 668 kB/s \n",
            "\u001b[?25hRequirement already satisfied: numpy in /usr/local/lib/python3.7/dist-packages (from scikit-commpy) (1.19.5)\n",
            "Requirement already satisfied: scipy in /usr/local/lib/python3.7/dist-packages (from scikit-commpy) (1.4.1)\n",
            "Requirement already satisfied: matplotlib in /usr/local/lib/python3.7/dist-packages (from scikit-commpy) (3.2.2)\n",
            "Requirement already satisfied: sympy in /usr/local/lib/python3.7/dist-packages (from scikit-commpy) (1.7.1)\n",
            "Requirement already satisfied: cycler>=0.10 in /usr/local/lib/python3.7/dist-packages (from matplotlib->scikit-commpy) (0.10.0)\n",
            "Requirement already satisfied: kiwisolver>=1.0.1 in /usr/local/lib/python3.7/dist-packages (from matplotlib->scikit-commpy) (1.3.1)\n",
            "Requirement already satisfied: pyparsing!=2.0.4,!=2.1.2,!=2.1.6,>=2.0.1 in /usr/local/lib/python3.7/dist-packages (from matplotlib->scikit-commpy) (2.4.7)\n",
            "Requirement already satisfied: python-dateutil>=2.1 in /usr/local/lib/python3.7/dist-packages (from matplotlib->scikit-commpy) (2.8.1)\n",
            "Requirement already satisfied: six in /usr/local/lib/python3.7/dist-packages (from cycler>=0.10->matplotlib->scikit-commpy) (1.15.0)\n",
            "Requirement already satisfied: mpmath>=0.19 in /usr/local/lib/python3.7/dist-packages (from sympy->scikit-commpy) (1.2.1)\n",
            "Building wheels for collected packages: scikit-commpy\n",
            "  Building wheel for scikit-commpy (setup.py) ... \u001b[?25l\u001b[?25hdone\n",
            "  Created wheel for scikit-commpy: filename=scikit_commpy-0.7.0-py3-none-any.whl size=58556 sha256=29a2ffb1d6ea2351ed2bd6b48a99cb4153c45081d7a9a17c7994c149caee55a1\n",
            "  Stored in directory: /root/.cache/pip/wheels/52/2a/a2/2daff6a2d5e3b96d70fb03e5b0699ce70c98cb4c00c8107c38\n",
            "Successfully built scikit-commpy\n",
            "Installing collected packages: scikit-commpy\n",
            "Successfully installed scikit-commpy-0.7.0\n"
          ],
          "name": "stdout"
        }
      ]
    },
    {
      "cell_type": "code",
      "metadata": {
        "id": "C9N9qJN5gZUN"
      },
      "source": [
        "import ModulationPy as mpy\n",
        "import numpy as np\n",
        "import pandas as pd\n",
        "import matplotlib\n",
        "import matplotlib.pyplot as plt\n",
        "import seaborn as sns\n",
        "import commpy\n",
        "from commpy.channels import awgn\n",
        "from scipy import stats"
      ],
      "execution_count": 4,
      "outputs": []
    },
    {
      "cell_type": "code",
      "metadata": {
        "id": "8qw2I_iziN2E"
      },
      "source": [
        "matplotlib.style.available\n",
        "matplotlib.style.use('seaborn-whitegrid')"
      ],
      "execution_count": 5,
      "outputs": []
    },
    {
      "cell_type": "code",
      "metadata": {
        "id": "ek13LtPbgd-5"
      },
      "source": [
        "M = 4\n",
        "SNR = 50\n",
        "N = 4096\n",
        "modulator = mpy.QAMModem(M,\n",
        "                         bin_input=False,\n",
        "                         )\n",
        "qam_signals_df = pd.DataFrame()"
      ],
      "execution_count": 823,
      "outputs": []
    },
    {
      "cell_type": "code",
      "metadata": {
        "colab": {
          "base_uri": "https://localhost:8080/",
          "height": 262
        },
        "id": "-UcUhYsygfp0",
        "outputId": "62ddad15-a89b-494b-f7c1-3ed74117f2d2"
      },
      "source": [
        "consq = np.random.randint(M, size=N)\n",
        "plt.hist(consq, bins = M);\n",
        "# Показать распределение точек используя битовую последовательность и последовательность цифр "
      ],
      "execution_count": 824,
      "outputs": [
        {
          "output_type": "display_data",
          "data": {
            "image/png": "[encoded data removed]",
            "text/plain": [
              "<Figure size 432x288 with 1 Axes>"
            ]
          },
          "metadata": {
            "tags": []
          }
        }
      ]
    },
    {
      "cell_type": "code",
      "metadata": {
        "id": "L0UZ8jnugmXj"
      },
      "source": [
        "QAM = modulator.modulate(consq)\n",
        "QAM = awgn(QAM, SNR)\n",
        "QAM = QAM/max(abs(QAM))\n",
        "# QAM = QAM*np.exp(np.pi*1j)\n",
        "sqam = 'QAM_'+str(M)+'_'+str(SNR)"
      ],
      "execution_count": 825,
      "outputs": []
    },
    {
      "cell_type": "code",
      "metadata": {
        "id": "6d_7emPMgmqr"
      },
      "source": [
        "qam_signals_df[sqam] = QAM"
      ],
      "execution_count": 826,
      "outputs": []
    },
    {
      "cell_type": "code",
      "metadata": {
        "colab": {
          "base_uri": "https://localhost:8080/"
        },
        "id": "WkNcR8dRjVWl",
        "outputId": "9dbb932c-832c-4193-ba75-5c619b667bfe"
      },
      "source": [
        "len(qam_signals_df.index)"
      ],
      "execution_count": 827,
      "outputs": [
        {
          "output_type": "execute_result",
          "data": {
            "text/plain": [
              "4096"
            ]
          },
          "metadata": {
            "tags": []
          },
          "execution_count": 827
        }
      ]
    },
    {
      "cell_type": "code",
      "metadata": {
        "id": "b6-0dIwrS39X"
      },
      "source": [
        "from scipy.stats.kde import gaussian_kde"
      ],
      "execution_count": 828,
      "outputs": []
    },
    {
      "cell_type": "code",
      "metadata": {
        "id": "_6lO69QJkkCP"
      },
      "source": [
        "qam_reals_abs = qam_signals_df.apply(np.real).apply(abs).dropna()"
      ],
      "execution_count": 829,
      "outputs": []
    },
    {
      "cell_type": "code",
      "metadata": {
        "colab": {
          "base_uri": "https://localhost:8080/",
          "height": 277
        },
        "id": "RgwVeOhhSlA7",
        "outputId": "9f2b1c67-dba9-4d2a-d18c-d937847398f9"
      },
      "source": [
        "qam_reals_abs.hist(bins=int(np.log2(M)), density=True, alpha=0.5)\n",
        "my_density = gaussian_kde(qam_reals_abs[sqam], bw_method = 0.05) # Какую длину выбрать?\n",
        "# x = np.linspace(qam_reals_abs[sqam].min(), qam_reals_abs[sqam].max(), N)\n",
        "x = np.linspace(0, 1, int((N**(1/2))*2)) # Обьяснить децимацию ядерной оценки\n",
        "N_density = int((N**(1/2)))*2\n",
        "plt.plot(x, my_density(x),'g'); # distribution function"
      ],
      "execution_count": 830,
      "outputs": [
        {
          "output_type": "display_data",
          "data": {
            "image/png": "[encoded data removed]",
            "text/plain": [
              "<Figure size 432x288 with 1 Axes>"
            ]
          },
          "metadata": {
            "tags": []
          }
        }
      ]
    },
    {
      "cell_type": "code",
      "metadata": {
        "colab": {
          "base_uri": "https://localhost:8080/"
        },
        "id": "cWP_mst3XBpQ",
        "outputId": "b6aee695-400f-46c6-988f-90d6b6172d07"
      },
      "source": [
        "len(my_density(x))"
      ],
      "execution_count": 831,
      "outputs": [
        {
          "output_type": "execute_result",
          "data": {
            "text/plain": [
              "128"
            ]
          },
          "metadata": {
            "tags": []
          },
          "execution_count": 831
        }
      ]
    },
    {
      "cell_type": "code",
      "metadata": {
        "colab": {
          "base_uri": "https://localhost:8080/"
        },
        "id": "lFEr1dTxg6h3",
        "outputId": "aa3c0e1a-2c2c-4fe1-d18f-7f3c27bc3f77"
      },
      "source": [
        "int((N_density**(1/2)))"
      ],
      "execution_count": 832,
      "outputs": [
        {
          "output_type": "execute_result",
          "data": {
            "text/plain": [
              "11"
            ]
          },
          "metadata": {
            "tags": []
          },
          "execution_count": 832
        }
      ]
    },
    {
      "cell_type": "code",
      "metadata": {
        "colab": {
          "base_uri": "https://localhost:8080/",
          "height": 429
        },
        "id": "NExGFQPrWF9v",
        "outputId": "1bbbe40c-3185-4a6f-dd0b-9fbf9911e7f8"
      },
      "source": [
        "from scipy.signal import find_peaks\n",
        "\n",
        "derivation = np.array(my_density(x))\n",
        "derivation = derivation/max(derivation)\n",
        "mean_of_derivation = np.mean(derivation)\n",
        "max_of_derivation = np.max(derivation)\n",
        "\n",
        "derivation = pd.Series(derivation).rolling(window=2).mean().values\n",
        "\n",
        "x_values = np.array(x)\n",
        "distance =  int((N_density*0.707/16)/2)\n",
        "maxima = np.array(find_peaks(derivation, distance=distance, prominence=(0.05, 1)))\n",
        "maxima = maxima[0]\n",
        "plt.figure(dpi=100)\n",
        "plt.plot(x_values, derivation)\n",
        "plt.plot(x_values[maxima], derivation[maxima], \"x\")\n",
        "plt.axvline(x_values[5], c='red')\n",
        "plt.axvline(x_values[5 + distance], c='red')\n",
        "plt.axhline(1, c='red')\n",
        "plt.axhline(0.95, c='red')\n",
        "plt.show()\n",
        "len(maxima)*4*len(maxima), distance"
      ],
      "execution_count": 833,
      "outputs": [
        {
          "output_type": "stream",
          "text": [
            "/usr/local/lib/python3.7/dist-packages/ipykernel_launcher.py:12: VisibleDeprecationWarning: Creating an ndarray from ragged nested sequences (which is a list-or-tuple of lists-or-tuples-or ndarrays with different lengths or shapes) is deprecated. If you meant to do this, you must specify 'dtype=object' when creating the ndarray\n",
            "  if sys.path[0] == '':\n"
          ],
          "name": "stderr"
        },
        {
          "output_type": "display_data",
          "data": {
            "image/png": "[encoded data removed]",
            "text/plain": [
              "<Figure size 600x400 with 1 Axes>"
            ]
          },
          "metadata": {
            "tags": []
          }
        },
        {
          "output_type": "execute_result",
          "data": {
            "text/plain": [
              "(4, 2)"
            ]
          },
          "metadata": {
            "tags": []
          },
          "execution_count": 833
        }
      ]
    },
    {
      "cell_type": "code",
      "metadata": {
        "colab": {
          "base_uri": "https://localhost:8080/",
          "height": 279
        },
        "id": "3pHEaJGpg5hJ",
        "outputId": "2ed50384-1f55-4148-8bf4-83856b02b3ec"
      },
      "source": [
        "plt.scatter(qam_signals_df.apply(np.imag), \n",
        "            qam_signals_df.apply(np.real),\n",
        "            c='black',\n",
        "            marker='.',\n",
        "            s=1)\n",
        "\n",
        "# plt.scatter(qam_signals_df.apply(abs), \n",
        "#             qam_signals_df.apply(abs),\n",
        "#             c='blue',\n",
        "#             marker='*',\n",
        "#             s=20)\n",
        "\n",
        "plt.axhline(0, c='black', dashes=(1, 1))\n",
        "plt.axvline(0, c='black', dashes=(1, 1))"
      ],
      "execution_count": 834,
      "outputs": [
        {
          "output_type": "execute_result",
          "data": {
            "text/plain": [
              "<matplotlib.lines.Line2D at 0x7f582bac0f10>"
            ]
          },
          "metadata": {
            "tags": []
          },
          "execution_count": 834
        },
        {
          "output_type": "display_data",
          "data": {
            "image/png": "[encoded data removed]",
            "text/plain": [
              "<Figure size 432x288 with 1 Axes>"
            ]
          },
          "metadata": {
            "tags": []
          }
        }
      ]
    },
    {
      "cell_type": "markdown",
      "metadata": {
        "id": "YQB63MpMm5to"
      },
      "source": [
        "# Измерение статистически значимого различия между сигналами с разным отношением Сигнал/Шум"
      ]
    },
    {
      "cell_type": "code",
      "metadata": {
        "id": "GvFGKVfch1iY"
      },
      "source": [
        "SNR = 50\n",
        "SNR1 = 50\n",
        "list_of_snr = [SNR]\n",
        "M = 4\n",
        "consq =  np.arange(0, M).repeat(10)\n",
        "modulator = mpy.QAMModem(M,\n",
        "                          bin_input=False,\n",
        "                          )\n",
        "while SNR1 != 0:\n",
        "\n",
        " \n",
        "\n",
        "  QAM1 = modulator.modulate(consq)\n",
        "  QAM1 = QAM1/max(abs(QAM1))\n",
        "  QAM2 = QAM1\n",
        "  QAM1 = awgn(QAM1, SNR)\n",
        "  QAM2 = awgn(QAM2, SNR1)\n",
        "\n",
        "  test_result = stats.ttest_rel(QAM1.real, QAM2.real)[1]\n",
        "\n",
        "  print(test_result, SNR, SNR1)\n",
        "\n",
        "  if test_result >= 0.05:\n",
        "    SNR = SNR1\n",
        "    list_of_snr.append(SNR)\n",
        "    SNR1 = SNR1 - 1\n",
        "  else: \n",
        "    SNR1 = SNR1 - 1"
      ],
      "execution_count": null,
      "outputs": []
    },
    {
      "cell_type": "code",
      "metadata": {
        "id": "R0xVV1k-i9Ly"
      },
      "source": [
        "list_of_snr"
      ],
      "execution_count": null,
      "outputs": []
    },
    {
      "cell_type": "markdown",
      "metadata": {
        "id": "t5QkH0oTnBQc"
      },
      "source": [
        "# использование метода k-means для нахождения кластеров "
      ]
    },
    {
      "cell_type": "code",
      "metadata": {
        "id": "Ce_hVQaaxhCT"
      },
      "source": [
        "from scipy.cluster import hierarchy\n",
        "from sklearn.cluster import KMeans"
      ],
      "execution_count": null,
      "outputs": []
    },
    {
      "cell_type": "code",
      "metadata": {
        "id": "gRnBxQUcgJoP"
      },
      "source": [
        "SNR = 100\n",
        "M = 256\n",
        "consq = np.arange(0, M).repeat(2)\n",
        "modulator = mpy.QAMModem(M,\n",
        "                          bin_input=False,\n",
        "                          )\n",
        "QAM1 = modulator.modulate(consq)\n",
        "# QAM1 = QAM1/max(abs(QAM1))\n",
        "\n",
        "QAM1 = awgn(QAM1, SNR)\n",
        "\n",
        "QAM1 = pd.Series(QAM1)\n",
        "plt.scatter(QAM1.apply(np.imag), \n",
        "            QAM1.apply(np.real),\n",
        "            c='black',\n",
        "            marker='.',\n",
        "            s=1)\n",
        "\n",
        "plt.axhline(0, c='black', dashes=(1, 1))\n",
        "plt.axvline(0, c='black', dashes=(1, 1))\n",
        "\n",
        "# kmeans = KMeans(n_clusters = M)\n",
        "# kmeans.fit(X)\n",
        "# kmeans.labels_\n",
        "\n",
        "X = pd.DataFrame({'imag':QAM1.apply(np.imag), 'real':QAM1.apply(np.real)})\n",
        "y = pd.Series(consq)\n",
        "\n",
        "link = hierarchy.linkage(X, 'ward', 'euclidean')\n",
        "plt.figure(figsize=(12,9))\n",
        "dn = hierarchy.dendrogram(link, orientation='right')"
      ],
      "execution_count": null,
      "outputs": []
    },
    {
      "cell_type": "code",
      "metadata": {
        "id": "futek5JYnhgF"
      },
      "source": [
        "errors = []\n",
        "\n",
        "for i in [3, 4, 15, 16, 63, 64, 255, 256]:\n",
        "  kmeans = KMeans(n_clusters = i)\n",
        "  kmeans.fit(X)\n",
        "  errors.append(kmeans.inertia_)\n",
        "\n",
        "result = {'4':errors[0]-errors[1], '16':errors[2]-errors[3], '64':errors[4]-errors[5], '256':errors[6]-errors[7]}\n",
        "\n",
        "max(result, key=result.get)\n",
        "\n",
        "result, errors"
      ],
      "execution_count": null,
      "outputs": []
    },
    {
      "cell_type": "code",
      "metadata": {
        "id": "Gv0xUGXdteRi"
      },
      "source": [
        ""
      ],
      "execution_count": null,
      "outputs": []
    }
  ]
}